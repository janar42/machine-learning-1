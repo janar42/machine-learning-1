{
 "cells": [
  {
   "cell_type": "markdown",
   "id": "39a4a2e3-9454-41b3-9765-c3575e7ddf22",
   "metadata": {},
   "source": [
    "# Úkol č. 1 - předzpracování dat a binární klasifikace\n",
    "\n",
    "* Termíny jsou uvedeny na [courses.fit.cvut.cz/BI-ML1/homeworks/index.html](https://courses.fit.cvut.cz/BI-ML1/homeworks/index.html).\n",
    "* Pokud odevzdáte úkol po prvním termínu ale před nejzazším termínem, budete penalizování -12 body, pozdější odevzdání je bez bodu.\n",
    "* V rámci tohoto úkolu se musíte vypořádat s klasifikační úlohou s příznaky různých typů a s chybějícími hodnotami.\n",
    "* Před tím, než na nich postavíte predikční model, je třeba je nějakým způsobem převést do číselné reprezentace.\n",
    "    \n",
    "> **Úkoly jsou zadány tak, aby Vám daly prostor pro invenci. Vymyslet _jak přesně_ budete úkol řešit, je důležitou součástí zadání a originalita či nápaditost bude také hodnocena!**\n",
    "\n",
    "Využívejte buňky typu `Markdown` k vysvětlování Vašeho postupu. Za nepřehlednost budeme strhávat body.\n",
    "\n",
    "## Zdroj dat\n",
    "\n",
    "Budeme se zabývat predikcí přežití pasažérů Titaniku.\n",
    "K dispozici máte trénovací data v souboru `data.csv` a data na vyhodnocení v souboru `evaluation.csv`.\n",
    "\n",
    "#### Seznam příznaků:\n",
    "* survived - zda pasažér přežil, 0 = Ne, 1 = Ano; **vysvětlovaná proměnná**, kterou chcete predikovat\n",
    "* pclass - Třída lodního lístku, 1 = první, 2 = druhá, 3 = třetí\n",
    "* name - jméno\n",
    "* sex - pohlaví\n",
    "* age - věk v letech\n",
    "* sibsp\t- počet sourozenců / manželů, manželek na palubě\n",
    "* parch - počet rodičů / dětí na palubě\n",
    "* ticket - číslo lodního lístku\n",
    "* fare - cena lodního lístku\n",
    "* cabin\t- číslo kajuty\n",
    "* embarked\t- místo nalodění, C = Cherbourg, Q = Queenstown, S = Southampton\n",
    "* home.dest - Bydliště/Cíl\n",
    "\n",
    "## Pokyny k vypracování\n",
    "\n",
    "**Body zadání**, za jejichž (poctivé) vypracování získáte **25 bodů**: \n",
    "  * V notebooku načtěte data ze souboru `data.csv`. Vhodným způsobem si je rozdělte na podmnožiny, které Vám poslouží pro trénování (trénovací), porovnávání modelů (validační) a následnou predikci výkonnosti finálního modelu (testovací).\n",
    "    \n",
    "  * Proveďte základní předzpracování dat:\n",
    "    * Projděte si jednotlivé příznaky a transformujte je do vhodné podoby pro použití ve vybraném klasifikačním modelu.\n",
    "    * Podle potřeby si můžete vytvářet nové příznaky (na základě existujících), například tedy můžete vytvořit příznak měřící délku jména atp.\n",
    "    * Některé příznaky můžete také úplně zahodit.\n",
    "    * Nějakým způsobem (klidně triviálním) se vypořádejte s chybějícími hodnotami. Není potřeba používat sofistikované metody. _Hlavně pozor na metodické chyby!_\n",
    "    * Můžete využívat i vizualizace a vše stručně ale náležitě komentujte.\n",
    "\n",
    "  \n",
    "  * Na připravená data postupně aplikujte **rozhodovací strom** a **metodu nejbližších sousedů**, přičemž pro každý z těchto modelů:\n",
    "    * Okomentujte vhodnost daného modelu pro daný typ úlohy.\n",
    "    * Vyberte si hlavní hyperparametry k ladění a najděte jejich nejlepší hodnoty.\n",
    "    * Pro model s nejlepšími hodnotami hyperparametrů spočtěte (na validační množině) F1 skóre, nakreslete ROC křivku a určete AUC. _Pozor na metodické chyby!_\n",
    "    * Získané výsledky vždy řádně okomentujte.\n",
    "\n",
    "        \n",
    "  * Ze všech zkoušených možností v předchozím kroku vyberte finální model (jednoznačně popište o který konkrétně jde) a správně odhadněte, jakou **přesnost** můžete očekávat na nových datech, která jste doposud neměli k dispozici. _Pozor na metodické chyby!_\n",
    "    \n",
    "  * Nakonec načtěte vyhodnocovací data ze souboru `evaluation.csv`. Pomocí finálního modelu napočítejte predikce pro tyto data (vysvětlovaná proměnná v nich již není). Vytvořte soubor `results.csv`, ve kterém získané predikce uložíte do sloupce **survived** a identifikátory do sloupce **ID** (dodržte názvy sloupců!). Tento soubor též odevzdejte (uložte do repozitáře vedle notebooku).\n",
    "\n",
    "      * Snažte se vše udělat tak, aby přesnost odevzdaných predikcí na vyhodocovacím datasetu byla alespoň **75%**. Pokud bude menší, přijdete o **3 body**.\n",
    "      * Ukázka, jak by mělo vypadat prvních několik řádků souboru `results.csv` (obecně s jinými hodnotami survived):\n",
    "  \n",
    "```\n",
    "ID,survived\n",
    "1000,0\n",
    "1001,1\n",
    "...\n",
    "```\n",
    "\n",
    "## Poznámky k odevzdání\n",
    "\n",
    "  * Řiďte se pokyny ze stránky https://courses.fit.cvut.cz/BI-ML1/homeworks/index.html.\n",
    "  * Vytvořte i csv soubor `results.csv` s predikcemi a uložte ho v rámci projektu vedle ipython notebooku."
   ]
  },
  {
   "cell_type": "code",
   "execution_count": 332,
   "id": "003f7995-4bc0-42d8-a9ac-456638cdd708",
   "metadata": {},
   "outputs": [],
   "source": [
    "import pandas as pd\n",
    "import numpy as np\n",
    "\n",
    "randomSeed = 42\n",
    "\n",
    "import matplotlib.pyplot as plt\n",
    "%matplotlib inline\n",
    "\n",
    "from sklearn.model_selection import train_test_split\n",
    "from sklearn.tree import DecisionTreeClassifier\n",
    "from sklearn.neighbors import KNeighborsClassifier\n",
    "from sklearn.model_selection import ParameterGrid\n",
    "\n",
    "from sklearn import metrics\n",
    "from sklearn.metrics import f1_score, roc_auc_score\n",
    "from sklearn.metrics import roc_curve\n",
    "\n",
    "from sklearn.preprocessing import MinMaxScaler\n",
    "from sklearn.preprocessing import StandardScaler"
   ]
  },
  {
   "cell_type": "markdown",
   "id": "a2add1d4-cc06-49c7-a17e-497d726d1fbc",
   "metadata": {},
   "source": [
    "## Úvod"
   ]
  },
  {
   "cell_type": "markdown",
   "id": "820650a8-a014-4e6e-92be-0b426e15cbb9",
   "metadata": {},
   "source": [
    "Načtení dat z CSV souborů"
   ]
  },
  {
   "cell_type": "code",
   "execution_count": 333,
   "id": "48f16a6e-5dc5-40fd-9acc-9ae430d84d0a",
   "metadata": {},
   "outputs": [],
   "source": [
    "data = pd.read_csv(\"data.csv\")\n",
    "evl = pd.read_csv(\"evaluation.csv\")"
   ]
  },
  {
   "cell_type": "markdown",
   "id": "f0bfea42-4c6e-4ed8-ba52-bfd6161c4734",
   "metadata": {},
   "source": [
    "Základní informace a ukázka dat"
   ]
  },
  {
   "cell_type": "code",
   "execution_count": 334,
   "id": "b4e469c9-1c8a-418d-8886-ef6d850410f1",
   "metadata": {},
   "outputs": [
    {
     "name": "stdout",
     "output_type": "stream",
     "text": [
      "data.csv:\n"
     ]
    },
    {
     "data": {
      "text/html": [
       "<div>\n",
       "<style scoped>\n",
       "    .dataframe tbody tr th:only-of-type {\n",
       "        vertical-align: middle;\n",
       "    }\n",
       "\n",
       "    .dataframe tbody tr th {\n",
       "        vertical-align: top;\n",
       "    }\n",
       "\n",
       "    .dataframe thead th {\n",
       "        text-align: right;\n",
       "    }\n",
       "</style>\n",
       "<table border=\"1\" class=\"dataframe\">\n",
       "  <thead>\n",
       "    <tr style=\"text-align: right;\">\n",
       "      <th></th>\n",
       "      <th>ID</th>\n",
       "      <th>survived</th>\n",
       "      <th>pclass</th>\n",
       "      <th>name</th>\n",
       "      <th>sex</th>\n",
       "      <th>age</th>\n",
       "      <th>sibsp</th>\n",
       "      <th>parch</th>\n",
       "      <th>ticket</th>\n",
       "      <th>fare</th>\n",
       "      <th>cabin</th>\n",
       "      <th>embarked</th>\n",
       "      <th>home.dest</th>\n",
       "    </tr>\n",
       "  </thead>\n",
       "  <tbody>\n",
       "    <tr>\n",
       "      <th>0</th>\n",
       "      <td>0</td>\n",
       "      <td>0</td>\n",
       "      <td>2</td>\n",
       "      <td>Baimbrigge, Mr. Charles Robert</td>\n",
       "      <td>male</td>\n",
       "      <td>23.0</td>\n",
       "      <td>0</td>\n",
       "      <td>0</td>\n",
       "      <td>C.A. 31030</td>\n",
       "      <td>10.5000</td>\n",
       "      <td>NaN</td>\n",
       "      <td>S</td>\n",
       "      <td>Guernsey</td>\n",
       "    </tr>\n",
       "    <tr>\n",
       "      <th>1</th>\n",
       "      <td>1</td>\n",
       "      <td>0</td>\n",
       "      <td>3</td>\n",
       "      <td>Aronsson, Mr. Ernst Axel Algot</td>\n",
       "      <td>male</td>\n",
       "      <td>24.0</td>\n",
       "      <td>0</td>\n",
       "      <td>0</td>\n",
       "      <td>349911</td>\n",
       "      <td>7.7750</td>\n",
       "      <td>NaN</td>\n",
       "      <td>S</td>\n",
       "      <td>Sweden Joliet, IL</td>\n",
       "    </tr>\n",
       "    <tr>\n",
       "      <th>2</th>\n",
       "      <td>2</td>\n",
       "      <td>0</td>\n",
       "      <td>3</td>\n",
       "      <td>Novel, Mr. Mansouer</td>\n",
       "      <td>male</td>\n",
       "      <td>28.5</td>\n",
       "      <td>0</td>\n",
       "      <td>0</td>\n",
       "      <td>2697</td>\n",
       "      <td>7.2292</td>\n",
       "      <td>NaN</td>\n",
       "      <td>C</td>\n",
       "      <td>NaN</td>\n",
       "    </tr>\n",
       "    <tr>\n",
       "      <th>3</th>\n",
       "      <td>3</td>\n",
       "      <td>0</td>\n",
       "      <td>3</td>\n",
       "      <td>Osen, Mr. Olaf Elon</td>\n",
       "      <td>male</td>\n",
       "      <td>16.0</td>\n",
       "      <td>0</td>\n",
       "      <td>0</td>\n",
       "      <td>7534</td>\n",
       "      <td>9.2167</td>\n",
       "      <td>NaN</td>\n",
       "      <td>S</td>\n",
       "      <td>NaN</td>\n",
       "    </tr>\n",
       "    <tr>\n",
       "      <th>4</th>\n",
       "      <td>4</td>\n",
       "      <td>1</td>\n",
       "      <td>2</td>\n",
       "      <td>Navratil, Master. Michel M</td>\n",
       "      <td>male</td>\n",
       "      <td>3.0</td>\n",
       "      <td>1</td>\n",
       "      <td>1</td>\n",
       "      <td>230080</td>\n",
       "      <td>26.0000</td>\n",
       "      <td>F2</td>\n",
       "      <td>S</td>\n",
       "      <td>Nice, France</td>\n",
       "    </tr>\n",
       "  </tbody>\n",
       "</table>\n",
       "</div>"
      ],
      "text/plain": [
       "   ID  survived  pclass                            name   sex   age  sibsp  \\\n",
       "0   0         0       2  Baimbrigge, Mr. Charles Robert  male  23.0      0   \n",
       "1   1         0       3  Aronsson, Mr. Ernst Axel Algot  male  24.0      0   \n",
       "2   2         0       3             Novel, Mr. Mansouer  male  28.5      0   \n",
       "3   3         0       3             Osen, Mr. Olaf Elon  male  16.0      0   \n",
       "4   4         1       2      Navratil, Master. Michel M  male   3.0      1   \n",
       "\n",
       "   parch      ticket     fare cabin embarked          home.dest  \n",
       "0      0  C.A. 31030  10.5000   NaN        S           Guernsey  \n",
       "1      0      349911   7.7750   NaN        S  Sweden Joliet, IL  \n",
       "2      0        2697   7.2292   NaN        C                NaN  \n",
       "3      0        7534   9.2167   NaN        S                NaN  \n",
       "4      1      230080  26.0000    F2        S       Nice, France  "
      ]
     },
     "metadata": {},
     "output_type": "display_data"
    },
    {
     "name": "stdout",
     "output_type": "stream",
     "text": [
      "<class 'pandas.core.frame.DataFrame'>\n",
      "RangeIndex: 1000 entries, 0 to 999\n",
      "Data columns (total 13 columns):\n",
      " #   Column     Non-Null Count  Dtype  \n",
      "---  ------     --------------  -----  \n",
      " 0   ID         1000 non-null   int64  \n",
      " 1   survived   1000 non-null   int64  \n",
      " 2   pclass     1000 non-null   int64  \n",
      " 3   name       1000 non-null   object \n",
      " 4   sex        1000 non-null   object \n",
      " 5   age        796 non-null    float64\n",
      " 6   sibsp      1000 non-null   int64  \n",
      " 7   parch      1000 non-null   int64  \n",
      " 8   ticket     1000 non-null   object \n",
      " 9   fare       1000 non-null   float64\n",
      " 10  cabin      225 non-null    object \n",
      " 11  embarked   1000 non-null   object \n",
      " 12  home.dest  573 non-null    object \n",
      "dtypes: float64(2), int64(5), object(6)\n",
      "memory usage: 101.7+ KB\n"
     ]
    },
    {
     "data": {
      "text/plain": [
       "None"
      ]
     },
     "metadata": {},
     "output_type": "display_data"
    },
    {
     "name": "stdout",
     "output_type": "stream",
     "text": [
      "\n",
      "Počet prázdných řádků v každém sloupci (data.csv):\n"
     ]
    },
    {
     "data": {
      "text/plain": [
       "ID             0\n",
       "survived       0\n",
       "pclass         0\n",
       "name           0\n",
       "sex            0\n",
       "age          204\n",
       "sibsp          0\n",
       "parch          0\n",
       "ticket         0\n",
       "fare           0\n",
       "cabin        775\n",
       "embarked       0\n",
       "home.dest    427\n",
       "dtype: int64"
      ]
     },
     "metadata": {},
     "output_type": "display_data"
    },
    {
     "name": "stdout",
     "output_type": "stream",
     "text": [
      "\n",
      "Počet unikátních hodnot v každém sloupci (data.csv):\n"
     ]
    },
    {
     "data": {
      "text/plain": [
       "ID           1000\n",
       "survived        2\n",
       "pclass          3\n",
       "name          998\n",
       "sex             2\n",
       "age            93\n",
       "sibsp           7\n",
       "parch           8\n",
       "ticket        747\n",
       "fare          260\n",
       "cabin         155\n",
       "embarked        3\n",
       "home.dest     308\n",
       "dtype: int64"
      ]
     },
     "metadata": {},
     "output_type": "display_data"
    },
    {
     "name": "stdout",
     "output_type": "stream",
     "text": [
      "\n",
      "evaluation.csv:\n"
     ]
    },
    {
     "data": {
      "text/html": [
       "<div>\n",
       "<style scoped>\n",
       "    .dataframe tbody tr th:only-of-type {\n",
       "        vertical-align: middle;\n",
       "    }\n",
       "\n",
       "    .dataframe tbody tr th {\n",
       "        vertical-align: top;\n",
       "    }\n",
       "\n",
       "    .dataframe thead th {\n",
       "        text-align: right;\n",
       "    }\n",
       "</style>\n",
       "<table border=\"1\" class=\"dataframe\">\n",
       "  <thead>\n",
       "    <tr style=\"text-align: right;\">\n",
       "      <th></th>\n",
       "      <th>ID</th>\n",
       "      <th>pclass</th>\n",
       "      <th>name</th>\n",
       "      <th>sex</th>\n",
       "      <th>age</th>\n",
       "      <th>sibsp</th>\n",
       "      <th>parch</th>\n",
       "      <th>ticket</th>\n",
       "      <th>fare</th>\n",
       "      <th>cabin</th>\n",
       "      <th>embarked</th>\n",
       "      <th>home.dest</th>\n",
       "    </tr>\n",
       "  </thead>\n",
       "  <tbody>\n",
       "    <tr>\n",
       "      <th>0</th>\n",
       "      <td>1000</td>\n",
       "      <td>2</td>\n",
       "      <td>Pengelly, Mr. Frederick William</td>\n",
       "      <td>male</td>\n",
       "      <td>19.0</td>\n",
       "      <td>0</td>\n",
       "      <td>0</td>\n",
       "      <td>28665</td>\n",
       "      <td>10.5</td>\n",
       "      <td>NaN</td>\n",
       "      <td>S</td>\n",
       "      <td>Gunnislake, England / Butte, MT</td>\n",
       "    </tr>\n",
       "    <tr>\n",
       "      <th>1</th>\n",
       "      <td>1001</td>\n",
       "      <td>2</td>\n",
       "      <td>Beane, Mr. Edward</td>\n",
       "      <td>male</td>\n",
       "      <td>32.0</td>\n",
       "      <td>1</td>\n",
       "      <td>0</td>\n",
       "      <td>2908</td>\n",
       "      <td>26.0</td>\n",
       "      <td>NaN</td>\n",
       "      <td>S</td>\n",
       "      <td>Norwich / New York, NY</td>\n",
       "    </tr>\n",
       "    <tr>\n",
       "      <th>2</th>\n",
       "      <td>1002</td>\n",
       "      <td>3</td>\n",
       "      <td>Storey, Mr. Thomas</td>\n",
       "      <td>male</td>\n",
       "      <td>60.5</td>\n",
       "      <td>0</td>\n",
       "      <td>0</td>\n",
       "      <td>3701</td>\n",
       "      <td>NaN</td>\n",
       "      <td>NaN</td>\n",
       "      <td>S</td>\n",
       "      <td>NaN</td>\n",
       "    </tr>\n",
       "    <tr>\n",
       "      <th>3</th>\n",
       "      <td>1003</td>\n",
       "      <td>2</td>\n",
       "      <td>Herman, Mrs. Samuel (Jane Laver)</td>\n",
       "      <td>female</td>\n",
       "      <td>48.0</td>\n",
       "      <td>1</td>\n",
       "      <td>2</td>\n",
       "      <td>220845</td>\n",
       "      <td>65.0</td>\n",
       "      <td>NaN</td>\n",
       "      <td>S</td>\n",
       "      <td>Somerset / Bernardsville, NJ</td>\n",
       "    </tr>\n",
       "    <tr>\n",
       "      <th>4</th>\n",
       "      <td>1004</td>\n",
       "      <td>1</td>\n",
       "      <td>Brewe, Dr. Arthur Jackson</td>\n",
       "      <td>male</td>\n",
       "      <td>NaN</td>\n",
       "      <td>0</td>\n",
       "      <td>0</td>\n",
       "      <td>112379</td>\n",
       "      <td>39.6</td>\n",
       "      <td>NaN</td>\n",
       "      <td>C</td>\n",
       "      <td>Philadelphia, PA</td>\n",
       "    </tr>\n",
       "  </tbody>\n",
       "</table>\n",
       "</div>"
      ],
      "text/plain": [
       "     ID  pclass                              name     sex   age  sibsp  parch  \\\n",
       "0  1000       2   Pengelly, Mr. Frederick William    male  19.0      0      0   \n",
       "1  1001       2                 Beane, Mr. Edward    male  32.0      1      0   \n",
       "2  1002       3                Storey, Mr. Thomas    male  60.5      0      0   \n",
       "3  1003       2  Herman, Mrs. Samuel (Jane Laver)  female  48.0      1      2   \n",
       "4  1004       1         Brewe, Dr. Arthur Jackson    male   NaN      0      0   \n",
       "\n",
       "   ticket  fare cabin embarked                        home.dest  \n",
       "0   28665  10.5   NaN        S  Gunnislake, England / Butte, MT  \n",
       "1    2908  26.0   NaN        S           Norwich / New York, NY  \n",
       "2    3701   NaN   NaN        S                              NaN  \n",
       "3  220845  65.0   NaN        S     Somerset / Bernardsville, NJ  \n",
       "4  112379  39.6   NaN        C                 Philadelphia, PA  "
      ]
     },
     "metadata": {},
     "output_type": "display_data"
    },
    {
     "name": "stdout",
     "output_type": "stream",
     "text": [
      "<class 'pandas.core.frame.DataFrame'>\n",
      "RangeIndex: 309 entries, 0 to 308\n",
      "Data columns (total 12 columns):\n",
      " #   Column     Non-Null Count  Dtype  \n",
      "---  ------     --------------  -----  \n",
      " 0   ID         309 non-null    int64  \n",
      " 1   pclass     309 non-null    int64  \n",
      " 2   name       309 non-null    object \n",
      " 3   sex        309 non-null    object \n",
      " 4   age        250 non-null    float64\n",
      " 5   sibsp      309 non-null    int64  \n",
      " 6   parch      309 non-null    int64  \n",
      " 7   ticket     309 non-null    object \n",
      " 8   fare       308 non-null    float64\n",
      " 9   cabin      70 non-null     object \n",
      " 10  embarked   307 non-null    object \n",
      " 11  home.dest  172 non-null    object \n",
      "dtypes: float64(2), int64(4), object(6)\n",
      "memory usage: 29.1+ KB\n"
     ]
    },
    {
     "data": {
      "text/plain": [
       "None"
      ]
     },
     "metadata": {},
     "output_type": "display_data"
    },
    {
     "name": "stdout",
     "output_type": "stream",
     "text": [
      "\n",
      "Počet prázdných řádků v každém sloupci (evaluation.csv):\n"
     ]
    },
    {
     "data": {
      "text/plain": [
       "ID             0\n",
       "pclass         0\n",
       "name           0\n",
       "sex            0\n",
       "age           59\n",
       "sibsp          0\n",
       "parch          0\n",
       "ticket         0\n",
       "fare           1\n",
       "cabin        239\n",
       "embarked       2\n",
       "home.dest    137\n",
       "dtype: int64"
      ]
     },
     "metadata": {},
     "output_type": "display_data"
    }
   ],
   "source": [
    "print(\"data.csv:\")\n",
    "display(data.head())\n",
    "display(data.info())\n",
    "print(\"\\nPočet prázdných řádků v každém sloupci (data.csv):\")\n",
    "display(data.isnull().sum(axis=0))\n",
    "print(\"\\nPočet unikátních hodnot v každém sloupci (data.csv):\")\n",
    "display(data.nunique())\n",
    "print(\"\\nevaluation.csv:\")\n",
    "display(evl.head())\n",
    "display(evl.info())\n",
    "print(\"\\nPočet prázdných řádků v každém sloupci (evaluation.csv):\")\n",
    "display(evl.isnull().sum(axis=0))"
   ]
  },
  {
   "cell_type": "markdown",
   "id": "d251bbc5-cec4-4128-b847-9d5e6eaf25f6",
   "metadata": {},
   "source": [
    "## Příprava dat"
   ]
  },
  {
   "cell_type": "markdown",
   "id": "35cba94a-e02f-4f56-b347-2de0c76d7923",
   "metadata": {},
   "source": [
    "* Nejprve sloučím oba soubory do jednoho, aby došlo k jednotnému zakódování hodnot pomocí funkce *cat.codes* v obou souborech zároveň. <br>\n",
    "* Následně odstraním sloupec *name*, jelikož v souboru *data.csv* je 998 unikátních jmen, což by v případě rozhodovacího stromu vedlo k nemožnosti cestující adekvátně rozdělit a v případě KNN nemožnosti nalézt cestujícího se stejným jménem. Je navíc zřejmé, že přežití cestujícího nezáleží na jeho jménu. <br>\n",
    "* Ze sloupce *ID* udělám identifikátor cestujícího.\n",
    "* Proměnné s typem *object* převedu pomocí funkce *cat.codes* na číselné. Tato funkce každé unikátní hodnotě ve sloupci přiřadí její číselnou hodnotu, což vede k lepšímu učení modelu. <br>\n",
    "* Nahradím chybějící hodnoty číslem -1.\n",
    "* Pro přehlednost přejmenuji sloupec *sex* na *male*, protože funkce *cat.codes* přiřadila mužskému pohlaví 1.\n",
    "* Nakonec soubory opět rozdělím jako na začátku."
   ]
  },
  {
   "cell_type": "code",
   "execution_count": 335,
   "id": "ca8e9dc1-fa9d-4781-bfda-779356a8e8ef",
   "metadata": {},
   "outputs": [
    {
     "data": {
      "text/html": [
       "<div>\n",
       "<style scoped>\n",
       "    .dataframe tbody tr th:only-of-type {\n",
       "        vertical-align: middle;\n",
       "    }\n",
       "\n",
       "    .dataframe tbody tr th {\n",
       "        vertical-align: top;\n",
       "    }\n",
       "\n",
       "    .dataframe thead th {\n",
       "        text-align: right;\n",
       "    }\n",
       "</style>\n",
       "<table border=\"1\" class=\"dataframe\">\n",
       "  <thead>\n",
       "    <tr style=\"text-align: right;\">\n",
       "      <th></th>\n",
       "      <th>survived</th>\n",
       "      <th>pclass</th>\n",
       "      <th>sex</th>\n",
       "      <th>age</th>\n",
       "      <th>sibsp</th>\n",
       "      <th>parch</th>\n",
       "      <th>ticket</th>\n",
       "      <th>fare</th>\n",
       "      <th>cabin</th>\n",
       "      <th>embarked</th>\n",
       "      <th>home.dest</th>\n",
       "    </tr>\n",
       "    <tr>\n",
       "      <th>ID</th>\n",
       "      <th></th>\n",
       "      <th></th>\n",
       "      <th></th>\n",
       "      <th></th>\n",
       "      <th></th>\n",
       "      <th></th>\n",
       "      <th></th>\n",
       "      <th></th>\n",
       "      <th></th>\n",
       "      <th></th>\n",
       "      <th></th>\n",
       "    </tr>\n",
       "  </thead>\n",
       "  <tbody>\n",
       "    <tr>\n",
       "      <th>0</th>\n",
       "      <td>0.0</td>\n",
       "      <td>2</td>\n",
       "      <td>male</td>\n",
       "      <td>23.0</td>\n",
       "      <td>0</td>\n",
       "      <td>0</td>\n",
       "      <td>C.A. 31030</td>\n",
       "      <td>10.5000</td>\n",
       "      <td>NaN</td>\n",
       "      <td>S</td>\n",
       "      <td>Guernsey</td>\n",
       "    </tr>\n",
       "    <tr>\n",
       "      <th>1</th>\n",
       "      <td>0.0</td>\n",
       "      <td>3</td>\n",
       "      <td>male</td>\n",
       "      <td>24.0</td>\n",
       "      <td>0</td>\n",
       "      <td>0</td>\n",
       "      <td>349911</td>\n",
       "      <td>7.7750</td>\n",
       "      <td>NaN</td>\n",
       "      <td>S</td>\n",
       "      <td>Sweden Joliet, IL</td>\n",
       "    </tr>\n",
       "    <tr>\n",
       "      <th>2</th>\n",
       "      <td>0.0</td>\n",
       "      <td>3</td>\n",
       "      <td>male</td>\n",
       "      <td>28.5</td>\n",
       "      <td>0</td>\n",
       "      <td>0</td>\n",
       "      <td>2697</td>\n",
       "      <td>7.2292</td>\n",
       "      <td>NaN</td>\n",
       "      <td>C</td>\n",
       "      <td>NaN</td>\n",
       "    </tr>\n",
       "    <tr>\n",
       "      <th>3</th>\n",
       "      <td>0.0</td>\n",
       "      <td>3</td>\n",
       "      <td>male</td>\n",
       "      <td>16.0</td>\n",
       "      <td>0</td>\n",
       "      <td>0</td>\n",
       "      <td>7534</td>\n",
       "      <td>9.2167</td>\n",
       "      <td>NaN</td>\n",
       "      <td>S</td>\n",
       "      <td>NaN</td>\n",
       "    </tr>\n",
       "    <tr>\n",
       "      <th>4</th>\n",
       "      <td>1.0</td>\n",
       "      <td>2</td>\n",
       "      <td>male</td>\n",
       "      <td>3.0</td>\n",
       "      <td>1</td>\n",
       "      <td>1</td>\n",
       "      <td>230080</td>\n",
       "      <td>26.0000</td>\n",
       "      <td>F2</td>\n",
       "      <td>S</td>\n",
       "      <td>Nice, France</td>\n",
       "    </tr>\n",
       "  </tbody>\n",
       "</table>\n",
       "</div>"
      ],
      "text/plain": [
       "    survived  pclass   sex   age  sibsp  parch      ticket     fare cabin  \\\n",
       "ID                                                                          \n",
       "0        0.0       2  male  23.0      0      0  C.A. 31030  10.5000   NaN   \n",
       "1        0.0       3  male  24.0      0      0      349911   7.7750   NaN   \n",
       "2        0.0       3  male  28.5      0      0        2697   7.2292   NaN   \n",
       "3        0.0       3  male  16.0      0      0        7534   9.2167   NaN   \n",
       "4        1.0       2  male   3.0      1      1      230080  26.0000    F2   \n",
       "\n",
       "   embarked          home.dest  \n",
       "ID                              \n",
       "0         S           Guernsey  \n",
       "1         S  Sweden Joliet, IL  \n",
       "2         C                NaN  \n",
       "3         S                NaN  \n",
       "4         S       Nice, France  "
      ]
     },
     "metadata": {},
     "output_type": "display_data"
    },
    {
     "data": {
      "text/plain": [
       "Index(['sex', 'ticket', 'cabin', 'embarked', 'home.dest'], dtype='object')"
      ]
     },
     "metadata": {},
     "output_type": "display_data"
    }
   ],
   "source": [
    "combined = pd.concat([data, evl]).set_index('ID')\n",
    "combined = combined.drop(columns=['name'])\n",
    "display(combined.head())\n",
    "stringCols = combined.select_dtypes(['object']).columns\n",
    "display(stringCols)"
   ]
  },
  {
   "cell_type": "code",
   "execution_count": 336,
   "id": "f1d81937-6cc3-4506-a1a2-5e06d3f914ff",
   "metadata": {},
   "outputs": [
    {
     "data": {
      "text/html": [
       "<div>\n",
       "<style scoped>\n",
       "    .dataframe tbody tr th:only-of-type {\n",
       "        vertical-align: middle;\n",
       "    }\n",
       "\n",
       "    .dataframe tbody tr th {\n",
       "        vertical-align: top;\n",
       "    }\n",
       "\n",
       "    .dataframe thead th {\n",
       "        text-align: right;\n",
       "    }\n",
       "</style>\n",
       "<table border=\"1\" class=\"dataframe\">\n",
       "  <thead>\n",
       "    <tr style=\"text-align: right;\">\n",
       "      <th></th>\n",
       "      <th>survived</th>\n",
       "      <th>pclass</th>\n",
       "      <th>male</th>\n",
       "      <th>age</th>\n",
       "      <th>sibsp</th>\n",
       "      <th>parch</th>\n",
       "      <th>ticket</th>\n",
       "      <th>fare</th>\n",
       "      <th>cabin</th>\n",
       "      <th>embarked</th>\n",
       "      <th>home.dest</th>\n",
       "    </tr>\n",
       "    <tr>\n",
       "      <th>ID</th>\n",
       "      <th></th>\n",
       "      <th></th>\n",
       "      <th></th>\n",
       "      <th></th>\n",
       "      <th></th>\n",
       "      <th></th>\n",
       "      <th></th>\n",
       "      <th></th>\n",
       "      <th></th>\n",
       "      <th></th>\n",
       "      <th></th>\n",
       "    </tr>\n",
       "  </thead>\n",
       "  <tbody>\n",
       "    <tr>\n",
       "      <th>0</th>\n",
       "      <td>0.0</td>\n",
       "      <td>2</td>\n",
       "      <td>1</td>\n",
       "      <td>23.0</td>\n",
       "      <td>0</td>\n",
       "      <td>0</td>\n",
       "      <td>760</td>\n",
       "      <td>10.5000</td>\n",
       "      <td>-1</td>\n",
       "      <td>2</td>\n",
       "      <td>138</td>\n",
       "    </tr>\n",
       "    <tr>\n",
       "      <th>1</th>\n",
       "      <td>0.0</td>\n",
       "      <td>3</td>\n",
       "      <td>1</td>\n",
       "      <td>24.0</td>\n",
       "      <td>0</td>\n",
       "      <td>0</td>\n",
       "      <td>543</td>\n",
       "      <td>7.7750</td>\n",
       "      <td>-1</td>\n",
       "      <td>2</td>\n",
       "      <td>321</td>\n",
       "    </tr>\n",
       "    <tr>\n",
       "      <th>2</th>\n",
       "      <td>0.0</td>\n",
       "      <td>3</td>\n",
       "      <td>1</td>\n",
       "      <td>28.5</td>\n",
       "      <td>0</td>\n",
       "      <td>0</td>\n",
       "      <td>292</td>\n",
       "      <td>7.2292</td>\n",
       "      <td>-1</td>\n",
       "      <td>0</td>\n",
       "      <td>-1</td>\n",
       "    </tr>\n",
       "    <tr>\n",
       "      <th>3</th>\n",
       "      <td>0.0</td>\n",
       "      <td>3</td>\n",
       "      <td>1</td>\n",
       "      <td>16.0</td>\n",
       "      <td>0</td>\n",
       "      <td>0</td>\n",
       "      <td>691</td>\n",
       "      <td>9.2167</td>\n",
       "      <td>-1</td>\n",
       "      <td>2</td>\n",
       "      <td>-1</td>\n",
       "    </tr>\n",
       "    <tr>\n",
       "      <th>4</th>\n",
       "      <td>1.0</td>\n",
       "      <td>2</td>\n",
       "      <td>1</td>\n",
       "      <td>3.0</td>\n",
       "      <td>1</td>\n",
       "      <td>1</td>\n",
       "      <td>145</td>\n",
       "      <td>26.0000</td>\n",
       "      <td>180</td>\n",
       "      <td>2</td>\n",
       "      <td>243</td>\n",
       "    </tr>\n",
       "  </tbody>\n",
       "</table>\n",
       "</div>"
      ],
      "text/plain": [
       "    survived  pclass  male   age  sibsp  parch  ticket     fare  cabin  \\\n",
       "ID                                                                       \n",
       "0        0.0       2     1  23.0      0      0     760  10.5000     -1   \n",
       "1        0.0       3     1  24.0      0      0     543   7.7750     -1   \n",
       "2        0.0       3     1  28.5      0      0     292   7.2292     -1   \n",
       "3        0.0       3     1  16.0      0      0     691   9.2167     -1   \n",
       "4        1.0       2     1   3.0      1      1     145  26.0000    180   \n",
       "\n",
       "    embarked  home.dest  \n",
       "ID                       \n",
       "0          2        138  \n",
       "1          2        321  \n",
       "2          0         -1  \n",
       "3          2         -1  \n",
       "4          2        243  "
      ]
     },
     "metadata": {},
     "output_type": "display_data"
    },
    {
     "name": "stdout",
     "output_type": "stream",
     "text": [
      "\n",
      "\n",
      "<class 'pandas.core.frame.DataFrame'>\n",
      "Index: 1309 entries, 0 to 1308\n",
      "Data columns (total 11 columns):\n",
      " #   Column     Non-Null Count  Dtype  \n",
      "---  ------     --------------  -----  \n",
      " 0   survived   1309 non-null   float64\n",
      " 1   pclass     1309 non-null   int64  \n",
      " 2   male       1309 non-null   int8   \n",
      " 3   age        1309 non-null   float64\n",
      " 4   sibsp      1309 non-null   int64  \n",
      " 5   parch      1309 non-null   int64  \n",
      " 6   ticket     1309 non-null   int16  \n",
      " 7   fare       1309 non-null   float64\n",
      " 8   cabin      1309 non-null   int16  \n",
      " 9   embarked   1309 non-null   int8   \n",
      " 10  home.dest  1309 non-null   int16  \n",
      "dtypes: float64(3), int16(3), int64(3), int8(2)\n",
      "memory usage: 81.8 KB\n"
     ]
    },
    {
     "data": {
      "text/plain": [
       "None"
      ]
     },
     "metadata": {},
     "output_type": "display_data"
    },
    {
     "name": "stdout",
     "output_type": "stream",
     "text": [
      "\n",
      "Počet unikátních hodnot v každém sloupci:\n"
     ]
    },
    {
     "data": {
      "text/plain": [
       "survived       3\n",
       "pclass         3\n",
       "male           2\n",
       "age           99\n",
       "sibsp          7\n",
       "parch          8\n",
       "ticket       929\n",
       "fare         282\n",
       "cabin        187\n",
       "embarked       4\n",
       "home.dest    370\n",
       "dtype: int64"
      ]
     },
     "metadata": {},
     "output_type": "display_data"
    }
   ],
   "source": [
    "combined[stringCols] = combined[stringCols].astype('category').apply(lambda x: x.cat.codes)\n",
    "combined = combined.replace(np.nan,-1)\n",
    "combined.rename(columns={\"sex\": \"male\"}, inplace=True)\n",
    "display(combined.head())\n",
    "print(\"\\n\")\n",
    "display(combined.info())\n",
    "print(\"\\nPočet unikátních hodnot v každém sloupci:\")\n",
    "display(combined.nunique())"
   ]
  },
  {
   "cell_type": "code",
   "execution_count": 337,
   "id": "38007aa5-dedf-4c18-b524-b30b74f25b2a",
   "metadata": {},
   "outputs": [],
   "source": [
    "dataMod = combined.iloc[:1000, :]\n",
    "evlMod = combined.iloc[1000:, :]\n",
    "evlMod = evlMod.drop(columns=['survived'])"
   ]
  },
  {
   "cell_type": "markdown",
   "id": "0258fdf6-178b-4e27-96d5-5061202bee18",
   "metadata": {},
   "source": [
    "V obou souborech jsou teď všechny buňky vyplněné."
   ]
  },
  {
   "cell_type": "code",
   "execution_count": 338,
   "id": "de81a27c-ff18-4650-9e9f-c847bf8f9ab6",
   "metadata": {},
   "outputs": [
    {
     "data": {
      "text/plain": [
       "survived     0\n",
       "pclass       0\n",
       "male         0\n",
       "age          0\n",
       "sibsp        0\n",
       "parch        0\n",
       "ticket       0\n",
       "fare         0\n",
       "cabin        0\n",
       "embarked     0\n",
       "home.dest    0\n",
       "dtype: int64"
      ]
     },
     "metadata": {},
     "output_type": "display_data"
    },
    {
     "name": "stdout",
     "output_type": "stream",
     "text": [
      "\n",
      "\n"
     ]
    },
    {
     "data": {
      "text/plain": [
       "pclass       0\n",
       "male         0\n",
       "age          0\n",
       "sibsp        0\n",
       "parch        0\n",
       "ticket       0\n",
       "fare         0\n",
       "cabin        0\n",
       "embarked     0\n",
       "home.dest    0\n",
       "dtype: int64"
      ]
     },
     "metadata": {},
     "output_type": "display_data"
    }
   ],
   "source": [
    "display(dataMod.isnull().sum(axis=0))\n",
    "print(\"\\n\")\n",
    "display(evlMod.isnull().sum(axis=0))"
   ]
  },
  {
   "cell_type": "markdown",
   "id": "f3c18e6a-93c9-4c59-baa9-fce23e4d549e",
   "metadata": {},
   "source": [
    "Pro jistotu vytvořím kopie dat pro každou metodu."
   ]
  },
  {
   "cell_type": "code",
   "execution_count": 339,
   "id": "1177de7b-8535-4500-9c13-2e2e6009550f",
   "metadata": {},
   "outputs": [],
   "source": [
    "XdataTree = dataMod.drop(columns=\"survived\")\n",
    "YdataTree = dataMod.survived\n",
    "\n",
    "XdataKNN = dataMod.drop(columns=\"survived\")\n",
    "YdataKNN = dataMod.survived"
   ]
  },
  {
   "cell_type": "markdown",
   "id": "c1b142a3-a4c0-450f-ad61-25734b5ea28b",
   "metadata": {},
   "source": [
    "## Rozhodovací strom"
   ]
  },
  {
   "cell_type": "markdown",
   "id": "90766933-ff58-4b9c-a598-575e7003282f",
   "metadata": {},
   "source": [
    "### Výhody při binární klasifikaci"
   ]
  },
  {
   "cell_type": "markdown",
   "id": "b587d997-1b78-4ac9-99fb-4ffec22ae46f",
   "metadata": {},
   "source": [
    "* jednoduché na pochopení člověkem\n",
    "* není nutná normalizace dat, strom dokáže pracovat i s daty, které nejsou v podobném rozsahu\n",
    "* poradí si s kategoriálními i numerickými hodnotami\n",
    "* schopnost modelovat nelineární vztahy, kdy záleží na kombinaci více podmínek"
   ]
  },
  {
   "cell_type": "markdown",
   "id": "aa351015-912d-4dbb-ae87-74a876659b8d",
   "metadata": {},
   "source": [
    "Rozdělení dat na trénovací, validační a testovací množinu v poměru 60:20:20."
   ]
  },
  {
   "cell_type": "code",
   "execution_count": 340,
   "id": "83cc7b38-a364-47c8-8302-5273ca565e08",
   "metadata": {},
   "outputs": [],
   "source": [
    "XtrainDT, XtestDT, YtrainDT, YtestDT = train_test_split(XdataTree, YdataTree, test_size=0.4, random_state=randomSeed)\n",
    "XvalDT, XtestDT, YvalDT, YtestDT = train_test_split(XtestDT, YtestDT, test_size=0.5, random_state=randomSeed)"
   ]
  },
  {
   "cell_type": "code",
   "execution_count": 341,
   "id": "c8639a9b-247f-4d72-b086-6d9534db3340",
   "metadata": {},
   "outputs": [
    {
     "data": {
      "text/plain": [
       "(600, 10)"
      ]
     },
     "metadata": {},
     "output_type": "display_data"
    },
    {
     "data": {
      "text/plain": [
       "(600,)"
      ]
     },
     "metadata": {},
     "output_type": "display_data"
    },
    {
     "data": {
      "text/plain": [
       "(200, 10)"
      ]
     },
     "metadata": {},
     "output_type": "display_data"
    },
    {
     "data": {
      "text/plain": [
       "(200,)"
      ]
     },
     "metadata": {},
     "output_type": "display_data"
    },
    {
     "data": {
      "text/plain": [
       "(200, 10)"
      ]
     },
     "metadata": {},
     "output_type": "display_data"
    },
    {
     "data": {
      "text/plain": [
       "(200,)"
      ]
     },
     "metadata": {},
     "output_type": "display_data"
    }
   ],
   "source": [
    "display(XtrainDT.shape)\n",
    "display(YtrainDT.shape)\n",
    "display(XvalDT.shape)\n",
    "display(YvalDT.shape)\n",
    "display(XtestDT.shape)\n",
    "display(YtestDT.shape)"
   ]
  },
  {
   "cell_type": "code",
   "execution_count": 342,
   "id": "e5ba893c-42c3-48d6-8d8f-93065276ae5f",
   "metadata": {},
   "outputs": [
    {
     "data": {
      "text/plain": [
       "{'ccp_alpha': 0.0,\n",
       " 'class_weight': None,\n",
       " 'criterion': 'gini',\n",
       " 'max_depth': None,\n",
       " 'max_features': None,\n",
       " 'max_leaf_nodes': None,\n",
       " 'min_impurity_decrease': 0.0,\n",
       " 'min_samples_leaf': 1,\n",
       " 'min_samples_split': 2,\n",
       " 'min_weight_fraction_leaf': 0.0,\n",
       " 'monotonic_cst': None,\n",
       " 'random_state': None,\n",
       " 'splitter': 'best'}"
      ]
     },
     "execution_count": 342,
     "metadata": {},
     "output_type": "execute_result"
    }
   ],
   "source": [
    "DTclf = DecisionTreeClassifier()\n",
    "DTclf.get_params()"
   ]
  },
  {
   "cell_type": "markdown",
   "id": "5f0b496b-0f6e-483d-abc0-d87d816a6da8",
   "metadata": {},
   "source": [
    "Pro svůj model jsem vybrala 3 hyperparametry:\n",
    "   - *max_depth*: omezí maximální hloubku stromu\n",
    "   - *criterion*: jaké kritérium se použije k měření kvality rozdělení\n",
    "   - *min_samples_split*: minimální počet vzorků k rozdělení uzlu"
   ]
  },
  {
   "cell_type": "code",
   "execution_count": 343,
   "id": "d102229d-9466-47c9-8cab-ff2f7f6ce8a8",
   "metadata": {},
   "outputs": [
    {
     "name": "stdout",
     "output_type": "stream",
     "text": [
      "Počet možných kombinací hyperparametrů: 1102\n"
     ]
    }
   ],
   "source": [
    "DTparamGrid = {\n",
    "    'max_depth' : range(1,30),\n",
    "    'criterion' : ['entropy', 'gini'],\n",
    "    'min_samples_split' : range(5, 100, 5)\n",
    "}\n",
    "DTparamComb = ParameterGrid(DTparamGrid)\n",
    "print(f\"Počet možných kombinací hyperparametrů: {len(DTparamComb)}\")"
   ]
  },
  {
   "cell_type": "markdown",
   "id": "e5c69528-3b71-4935-b2ff-5d5756f2001c",
   "metadata": {},
   "source": [
    "Zkoušení všech kombinací hyperparametrů a ukládání jejich přesností na trénovacích datech a následné uložení nejlepší kombinace:"
   ]
  },
  {
   "cell_type": "code",
   "execution_count": 344,
   "id": "fa8079d1-5d87-4316-b496-b2bb02948d71",
   "metadata": {},
   "outputs": [],
   "source": [
    "DTvalAcc = []\n",
    "DTtrainAcc = []\n",
    "for par in DTparamComb: \n",
    "    DTclf = DecisionTreeClassifier(max_depth=par['max_depth'], criterion=par['criterion'])\n",
    "    DTclf.fit(XtrainDT, YtrainDT)\n",
    "    DTtrainAcc.append(metrics.accuracy_score(YtrainDT, DTclf.predict(XtrainDT)))\n",
    "    DTvalAcc.append(metrics.accuracy_score(YvalDT, DTclf.predict(XvalDT)))"
   ]
  },
  {
   "cell_type": "code",
   "execution_count": 345,
   "id": "41b6220f-8284-4337-b38c-1b791140c3a8",
   "metadata": {},
   "outputs": [
    {
     "name": "stdout",
     "output_type": "stream",
     "text": [
      "Nejlepší parametry pro rozhodovací strom: {'min_samples_split': 5, 'max_depth': 3, 'criterion': 'entropy'}\n"
     ]
    },
    {
     "data": {
      "image/png": "[encoded data removed]",
      "text/plain": [
       "<Figure size 2000x600 with 1 Axes>"
      ]
     },
     "metadata": {},
     "output_type": "display_data"
    }
   ],
   "source": [
    "plt.figure(figsize=(20,6))\n",
    "plt.plot(trainAcc,'or-')\n",
    "plt.plot(valAcc,'ob-')\n",
    "plt.xlabel('Kombinace parametrů')\n",
    "plt.ylabel('Přesnost')\n",
    "plt.legend(['Trénovací', 'Validační'])\n",
    "DTbestParams = DTparamComb[np.argmax(DTvalAcc)]\n",
    "print('Nejlepší parametry pro rozhodovací strom:', DTbestParams)"
   ]
  },
  {
   "cell_type": "code",
   "execution_count": 346,
   "id": "3abd95d2-fcab-401c-829a-896954335fc8",
   "metadata": {},
   "outputs": [
    {
     "name": "stdout",
     "output_type": "stream",
     "text": [
      "Přesnost na trénovací množině: 0.805000\n",
      "Přesnost na validační množině: 0.805000\n",
      "Přesnost na testovací množině: 0.795000\n"
     ]
    }
   ],
   "source": [
    "DTclf = DecisionTreeClassifier(**DTbestParams) \n",
    "DTclf.fit(XtrainDT, YtrainDT)\n",
    "print('Přesnost na trénovací množině: {0:.6f}'.format(metrics.accuracy_score(YtrainDT, DTclf.predict(XtrainDT))))\n",
    "print('Přesnost na validační množině: {0:.6f}'.format(metrics.accuracy_score(YvalDT, DTclf.predict(XvalDT))))\n",
    "print('Přesnost na testovací množině: {0:.6f}'.format(metrics.accuracy_score(YtestDT, DTclf.predict(XtestDT))))"
   ]
  },
  {
   "cell_type": "markdown",
   "id": "67f99644-d5e8-4065-942d-d3ecc642119d",
   "metadata": {},
   "source": [
    "## KNN"
   ]
  },
  {
   "cell_type": "markdown",
   "id": "d6ea317d-3a0d-4b68-864d-29ea96389872",
   "metadata": {},
   "source": [
    "### Výhody při binární klasifikaci"
   ]
  },
  {
   "cell_type": "markdown",
   "id": "a4f505d9-7cf8-42b5-bdb0-c629cad6ccb0",
   "metadata": {},
   "source": [
    "* jednoduché na pochopení člověkem\n",
    "* pro data s nižším obsahem proměnných je rychlý, efektivní a přesný\n",
    "* poradí si s kategoriálními i numerickými hodnotami\n",
    "* nepožaduje předpoklady pro distribuci dat"
   ]
  },
  {
   "cell_type": "markdown",
   "id": "41f70f23-497f-430c-bc3e-ab7f2deafcc5",
   "metadata": {},
   "source": [
    "Data rozdělím stejně jako u rozhodovacího stromu."
   ]
  },
  {
   "cell_type": "code",
   "execution_count": 347,
   "id": "7e79c923-3117-4dda-b498-71ed99a6f36d",
   "metadata": {},
   "outputs": [
    {
     "data": {
      "text/plain": [
       "(600, 10)"
      ]
     },
     "metadata": {},
     "output_type": "display_data"
    },
    {
     "data": {
      "text/plain": [
       "(600,)"
      ]
     },
     "metadata": {},
     "output_type": "display_data"
    },
    {
     "data": {
      "text/plain": [
       "(200, 10)"
      ]
     },
     "metadata": {},
     "output_type": "display_data"
    },
    {
     "data": {
      "text/plain": [
       "(200,)"
      ]
     },
     "metadata": {},
     "output_type": "display_data"
    },
    {
     "data": {
      "text/plain": [
       "(200, 10)"
      ]
     },
     "metadata": {},
     "output_type": "display_data"
    },
    {
     "data": {
      "text/plain": [
       "(200,)"
      ]
     },
     "metadata": {},
     "output_type": "display_data"
    }
   ],
   "source": [
    "XtrainKNN, XtestKNN, YtrainKNN, YtestKNN = train_test_split(XdataKNN, YdataKNN, test_size=0.4, random_state=randomSeed)\n",
    "XvalKNN, XtestKNN, YvalKNN, YtestKNN = train_test_split(XtestKNN, YtestKNN, test_size=0.5, random_state=randomSeed)\n",
    "display(XtrainDT.shape)\n",
    "display(YtrainDT.shape)\n",
    "display(XvalDT.shape)\n",
    "display(YvalDT.shape)\n",
    "display(XtestDT.shape)\n",
    "display(YtestDT.shape)"
   ]
  },
  {
   "cell_type": "code",
   "execution_count": 348,
   "id": "39a42d00-5bd6-4e63-a019-d9eb2d0be240",
   "metadata": {},
   "outputs": [
    {
     "data": {
      "text/plain": [
       "{'algorithm': 'auto',\n",
       " 'leaf_size': 30,\n",
       " 'metric': 'minkowski',\n",
       " 'metric_params': None,\n",
       " 'n_jobs': None,\n",
       " 'n_neighbors': 5,\n",
       " 'p': 2,\n",
       " 'weights': 'uniform'}"
      ]
     },
     "execution_count": 348,
     "metadata": {},
     "output_type": "execute_result"
    }
   ],
   "source": [
    "KNNclf = KNeighborsClassifier()\n",
    "KNNclf.get_params()"
   ]
  },
  {
   "cell_type": "markdown",
   "id": "33e523ad-b40f-43d0-83fc-763cd64b3519",
   "metadata": {},
   "source": [
    "Pro ladění jsem vybrala následující hyperparametry:\n",
    "   - *n_neighbors*: počet sousedů, které má model vzít v potaz pro každý bod\n",
    "   - *metric*: jak se měří vzdálenost mezi body\n",
    "   - *weights*: jak se sousedé podílí na výsledku, pro *uniform* všichni stejně, u *distance* mají větší váhu bližší sousedé"
   ]
  },
  {
   "cell_type": "code",
   "execution_count": 350,
   "id": "1c009229-d702-4d60-bf50-6dafb283f2ea",
   "metadata": {},
   "outputs": [
    {
     "name": "stdout",
     "output_type": "stream",
     "text": [
      "Počet možných kombinací hyperparametrů: 168\n"
     ]
    }
   ],
   "source": [
    "KNNparamGrid = {\n",
    "    'n_neighbors' : range(2, 30),\n",
    "    'metric' : ['euclidean', 'manhattan', 'minkowski'],\n",
    "    'weights' : ['uniform', 'distance']\n",
    "}\n",
    "KNNparamComb = ParameterGrid(KNNparamGrid)\n",
    "print(f\"Počet možných kombinací hyperparametrů: {len(KNNparamComb)}\")"
   ]
  },
  {
   "cell_type": "markdown",
   "id": "f63a27a5-62af-40d0-8a17-bb5064532e27",
   "metadata": {},
   "source": [
    "Postup stejný jako při rozhodovacím stromu."
   ]
  },
  {
   "cell_type": "code",
   "execution_count": 351,
   "id": "25f69b33-0861-4b2e-af68-63c0f91c50b4",
   "metadata": {},
   "outputs": [],
   "source": [
    "KNNtrainAcc = []\n",
    "KNNvalAcc = []\n",
    "for par in KNNparamComb: \n",
    "    KNNclf = KNeighborsClassifier(n_neighbors=par['n_neighbors'], metric=par['metric'], weights=par['weights'])\n",
    "    KNNclf.fit(XtrainKNN, YtrainKNN)\n",
    "    KNNtrainAcc.append(metrics.accuracy_score(YtrainKNN, KNNclf.predict(XtrainKNN)))\n",
    "    KNNvalAcc.append(metrics.accuracy_score(YvalKNN, KNNclf.predict(XvalKNN)))"
   ]
  },
  {
   "cell_type": "code",
   "execution_count": 352,
   "id": "ebd357eb-91dc-40b5-9546-27f0676a5b23",
   "metadata": {},
   "outputs": [
    {
     "name": "stdout",
     "output_type": "stream",
     "text": [
      "Nejlepší parametry pro KNN: {'weights': 'uniform', 'n_neighbors': 25, 'metric': 'euclidean'}\n"
     ]
    }
   ],
   "source": [
    "KNNbestParams = KNNparamComb[np.argmax(KNNvalAcc)]\n",
    "print('Nejlepší parametry pro KNN:', KNNbestParams)"
   ]
  },
  {
   "cell_type": "code",
   "execution_count": 353,
   "id": "a8348128-5670-479a-b8cc-8b2246408abf",
   "metadata": {},
   "outputs": [
    {
     "name": "stdout",
     "output_type": "stream",
     "text": [
      "Přesnost na trénovací množině: 0.690000\n",
      "Přesnost na validační množině: 0.670000\n",
      "Přesnost na testovací množině: 0.760000\n"
     ]
    }
   ],
   "source": [
    "KNNclf = KNeighborsClassifier(**KNNbestParams) \n",
    "KNNclf.fit(XtrainKNN, YtrainKNN)\n",
    "print('Přesnost na trénovací množině: {0:.6f}'.format(metrics.accuracy_score(YtrainKNN, KNNclf.predict(XtrainKNN))))\n",
    "print('Přesnost na validační množině: {0:.6f}'.format(metrics.accuracy_score(YvalKNN, KNNclf.predict(XvalKNN))))\n",
    "print('Přesnost na testovací množině: {0:.6f}'.format(metrics.accuracy_score(YtestKNN, KNNclf.predict(XtestKNN))))"
   ]
  },
  {
   "cell_type": "markdown",
   "id": "8b1cfef0-a18e-4bf4-9134-60ea02afcc3e",
   "metadata": {},
   "source": [
    "### Normalizace dat"
   ]
  },
  {
   "cell_type": "markdown",
   "id": "990c0cb3-1113-4b5d-9a8b-69a9a267f439",
   "metadata": {},
   "source": [
    "Klasická KNN metoda nedosáhla příliš vysoké přesnosti, proto zkusím data znormalizovat a zestandardizovat, což by mělo vést k vyšší přesnosti. Použiju k tomu funkci *fit_transform*, která na trénovacích datech určí statistiky potřebné pro transformaci dat, v případě *MinMaxScaler* se jedná o minimum a maximum v každém sloupci. Funkce *transform* následně podle těchto hodnot změní data i na validační a testovací množině."
   ]
  },
  {
   "cell_type": "code",
   "execution_count": 354,
   "id": "abf9563c-70a4-4114-ac30-8ab0e08adc02",
   "metadata": {},
   "outputs": [],
   "source": [
    "scaler = MinMaxScaler()\n",
    "XtrainKNNnorm = scaler.fit_transform(XtrainKNN)\n",
    "XvalKNNnorm = scaler.transform(XvalKNN)\n",
    "XtestKNNnorm = scaler.transform(XtestKNN)"
   ]
  },
  {
   "cell_type": "code",
   "execution_count": 355,
   "id": "ece4b2e2-8aaa-4c94-b66a-8ad93e93ba94",
   "metadata": {},
   "outputs": [],
   "source": [
    "KNNtrainAccNorm = []\n",
    "KNNvalAccNorm = []\n",
    "for par in KNNparamComb: \n",
    "    KNNclfNorm = KNeighborsClassifier(n_neighbors=par['n_neighbors'], metric=par['metric'], weights=par['weights'])\n",
    "    KNNclfNorm.fit(XtrainKNNnorm, YtrainKNN)\n",
    "    KNNtrainAccNorm.append(metrics.accuracy_score(YtrainKNN, KNNclfNorm.predict(XtrainKNNnorm)))\n",
    "    KNNvalAccNorm.append(metrics.accuracy_score(YvalKNN, KNNclfNorm.predict(XvalKNNnorm)))"
   ]
  },
  {
   "cell_type": "code",
   "execution_count": 356,
   "id": "906bf02c-6e2e-487b-b709-9065aa34b4f5",
   "metadata": {},
   "outputs": [
    {
     "name": "stdout",
     "output_type": "stream",
     "text": [
      "Nejlepší parametry pro normalizovaná data v KNN: {'weights': 'distance', 'n_neighbors': 11, 'metric': 'euclidean'}\n"
     ]
    }
   ],
   "source": [
    "KNNbestParamsNorm = KNNparamComb[np.argmax(KNNvalAccNorm)]\n",
    "print('Nejlepší parametry pro normalizovaná data v KNN:', KNNbestParamsNorm)"
   ]
  },
  {
   "cell_type": "code",
   "execution_count": 357,
   "id": "e2674f70-5458-4bc9-826e-605748c36200",
   "metadata": {},
   "outputs": [
    {
     "name": "stdout",
     "output_type": "stream",
     "text": [
      "Přesnost na trénovací množině: 1.000000\n",
      "Přesnost na validační množině: 0.800000\n",
      "Přesnost na testovací množině: 0.820000\n"
     ]
    }
   ],
   "source": [
    "KNNclfNorm = KNeighborsClassifier(**KNNbestParamsNorm) \n",
    "KNNclfNorm.fit(XtrainKNNnorm, YtrainKNN)\n",
    "print('Přesnost na trénovací množině: {0:.6f}'.format(metrics.accuracy_score(YtrainKNN, KNNclfNorm.predict(XtrainKNNnorm))))\n",
    "print('Přesnost na validační množině: {0:.6f}'.format(metrics.accuracy_score(YvalKNN, KNNclfNorm.predict(XvalKNNnorm))))\n",
    "print('Přesnost na testovací množině: {0:.6f}'.format(metrics.accuracy_score(YtestKNN, KNNclfNorm.predict(XtestKNNnorm))))"
   ]
  },
  {
   "cell_type": "markdown",
   "id": "ab9908b6-4420-44ed-a53c-3dc714158962",
   "metadata": {},
   "source": [
    "### Standardizace dat"
   ]
  },
  {
   "cell_type": "markdown",
   "id": "c5f3c7c3-4a5e-40f9-8540-0e6c091740cf",
   "metadata": {},
   "source": [
    "Dalším způsobem, jak dosáhnout při KNN lepších výsledků, je data standardizovat. Funkce *fit_transform* při standardizaci převede data do podoby, kdy každý sloupec má nulový průměr a jednotkovou směrodatnou odchylku. Tento výpočet se pak aplikuje i na validační a testovací množinu."
   ]
  },
  {
   "cell_type": "code",
   "execution_count": 358,
   "id": "9f98e907-54df-4f10-a2ee-02ac047a08b3",
   "metadata": {},
   "outputs": [],
   "source": [
    "scaler = StandardScaler()\n",
    "XtrainKNNstan = scaler.fit_transform(XtrainKNN)\n",
    "XvalKNNstan = scaler.transform(XvalKNN)\n",
    "XtestKNNstan = scaler.transform(XtestKNN)"
   ]
  },
  {
   "cell_type": "code",
   "execution_count": 359,
   "id": "75fb64c6-724d-4d44-a37a-45d11f8e413c",
   "metadata": {},
   "outputs": [],
   "source": [
    "KNNtrainAccStan = []\n",
    "KNNvalAccStan = []\n",
    "for par in KNNparamComb: \n",
    "    KNNclfStan = KNeighborsClassifier(n_neighbors=par['n_neighbors'], metric=par['metric'], weights=par['weights'])\n",
    "    KNNclfStan.fit(XtrainKNNstan, YtrainKNN)\n",
    "    KNNtrainAccStan.append(metrics.accuracy_score(YtrainKNN, KNNclfStan.predict(XtrainKNNstan)))\n",
    "    KNNvalAccStan.append(metrics.accuracy_score(YvalKNN, KNNclfStan.predict(XvalKNNstan)))"
   ]
  },
  {
   "cell_type": "code",
   "execution_count": 360,
   "id": "7aa426fa-7a2d-4fbb-8bf3-9a8499c7fe6c",
   "metadata": {},
   "outputs": [
    {
     "name": "stdout",
     "output_type": "stream",
     "text": [
      "Nejlepší parametry pro standardizovaná data v KNN: {'weights': 'uniform', 'n_neighbors': 7, 'metric': 'euclidean'}\n"
     ]
    }
   ],
   "source": [
    "KNNbestParamsStan = KNNparamComb[np.argmax(KNNvalAccStan)]\n",
    "print('Nejlepší parametry pro standardizovaná data v KNN:', KNNbestParamsStan)"
   ]
  },
  {
   "cell_type": "code",
   "execution_count": 361,
   "id": "52f78164-fb21-41fe-af42-692035578304",
   "metadata": {},
   "outputs": [
    {
     "name": "stdout",
     "output_type": "stream",
     "text": [
      "Přesnost na trénovací množině: 0.820000\n",
      "Přesnost na validační množině: 0.820000\n",
      "Přesnost na testovací množině: 0.780000\n"
     ]
    }
   ],
   "source": [
    "KNNclfStan = KNeighborsClassifier(**KNNbestParamsStan) \n",
    "KNNclfStan.fit(XtrainKNNstan, YtrainKNN)\n",
    "print('Přesnost na trénovací množině: {0:.6f}'.format(metrics.accuracy_score(YtrainKNN, KNNclfStan.predict(XtrainKNNstan))))\n",
    "print('Přesnost na validační množině: {0:.6f}'.format(metrics.accuracy_score(YvalKNN, KNNclfStan.predict(XvalKNNstan))))\n",
    "print('Přesnost na testovací množině: {0:.6f}'.format(metrics.accuracy_score(YtestKNN, KNNclfStan.predict(XtestKNNstan))))"
   ]
  },
  {
   "cell_type": "code",
   "execution_count": 362,
   "id": "695dc687-e9fa-469a-93c8-021bb11e7654",
   "metadata": {},
   "outputs": [
    {
     "data": {
      "text/plain": [
       "<matplotlib.legend.Legend at 0x7003abadefe0>"
      ]
     },
     "execution_count": 362,
     "metadata": {},
     "output_type": "execute_result"
    },
    {
     "data": {
      "image/png": "[encoded data removed]",
      "text/plain": [
       "<Figure size 2000x600 with 1 Axes>"
      ]
     },
     "metadata": {},
     "output_type": "display_data"
    }
   ],
   "source": [
    "plt.figure(figsize=(20,6))\n",
    "plt.plot(KNNtrainAccStan,'or-')\n",
    "plt.plot(KNNvalAccStan,'ob-')\n",
    "plt.xlabel('Kombinace parametrů')\n",
    "plt.ylabel('Přesnost')\n",
    "plt.legend(['Trénovací', 'Validační'])"
   ]
  },
  {
   "cell_type": "markdown",
   "id": "88af6459-3e0b-4397-9c57-00f5d70ba0be",
   "metadata": {},
   "source": [
    "## Výběr finálního modelu"
   ]
  },
  {
   "cell_type": "markdown",
   "id": "894ef24e-843d-4d4c-9016-df80dc7e8c5e",
   "metadata": {},
   "source": [
    "Finální model se vybírá podle přesnosti na validační množině. Nejlépe mi vyšla přesnost u metody nejbližších sousedů a se standardizovanými daty."
   ]
  },
  {
   "cell_type": "code",
   "execution_count": 363,
   "id": "2839b69f-9ab3-423c-8605-4f2b00e069af",
   "metadata": {},
   "outputs": [
    {
     "name": "stdout",
     "output_type": "stream",
     "text": [
      "Rozhodovací strom: 0.805000\n",
      "KNN: 0.670000\n",
      "KNN normalizace: 0.800000\n",
      "KNN standardizace: 0.820000\n"
     ]
    }
   ],
   "source": [
    "print('Rozhodovací strom: {0:.6f}'.format(metrics.accuracy_score(YvalDT, DTclf.predict(XvalDT))))\n",
    "print('KNN: {0:.6f}'.format(metrics.accuracy_score(YvalKNN, KNNclf.predict(XvalKNN))))\n",
    "print('KNN normalizace: {0:.6f}'.format(metrics.accuracy_score(YvalKNN, KNNclfNorm.predict(XvalKNNnorm))))\n",
    "print('KNN standardizace: {0:.6f}'.format(metrics.accuracy_score(YvalKNN, KNNclfStan.predict(XvalKNNstan))))"
   ]
  },
  {
   "cell_type": "markdown",
   "id": "e26415a1-eb5e-4d62-b3ba-9040325d0717",
   "metadata": {},
   "source": [
    "### Vlastnosti modelu"
   ]
  },
  {
   "cell_type": "markdown",
   "id": "0cbb4e4d-d6d6-4dd0-8b1e-9e79f4c9aeae",
   "metadata": {},
   "source": [
    "Následující kód provádí predikci finálního modelu na testovacích datech. Na testovací množině dosáhl přesnosti 78 %.\n",
    "* F1 skóre 0.64 naznačuje, že model je relativně vyvážený mezi tím, jak přesně označuje pozitivní případy pozitivními a jak mnoho pozitivních případů zachytí.\n",
    "* Podle AUC 0.85 má model velmi dobrou schopnost oddělit pozitivní a negativní třídy. Toto číslo také údává pravděpodobnost, že model přiřadí vyšší skóre pravděpodobnosti pozitivnímu vzorku než negativnímu."
   ]
  },
  {
   "cell_type": "code",
   "execution_count": 364,
   "id": "c41ccf9e-19b2-4c91-8a3d-9dbb66265bd3",
   "metadata": {},
   "outputs": [
    {
     "name": "stdout",
     "output_type": "stream",
     "text": [
      "Přesnost na testovací množině: 0.780000\n",
      "F1 skóre: 0.6451612903225806\n",
      "AUC: 0.8576068376068376\n"
     ]
    }
   ],
   "source": [
    "KNNpred = KNNclfStan.predict(XtestKNNstan)\n",
    "KNNpredProb = KNNclfStan.predict_proba(XtestKNNstan)\n",
    "predProb = KNNpredProb[:, 1]\n",
    "KNNacc = metrics.accuracy_score(YtestKNN, KNNpred)\n",
    "print('Přesnost na testovací množině: {0:.6f}'.format(KNNacc))\n",
    "\n",
    "KNNf1 = f1_score(YtestKNN, KNNpred)\n",
    "KNNauc = roc_auc_score(YtestKNN, predProb)\n",
    "print(f\"F1 skóre: {KNNf1}\")\n",
    "print(f\"AUC: {KNNauc}\")"
   ]
  },
  {
   "cell_type": "code",
   "execution_count": 365,
   "id": "67e0833b-0251-4736-b937-1517b9e8779a",
   "metadata": {},
   "outputs": [
    {
     "data": {
      "image/png": "[encoded data removed]",
      "text/plain": [
       "<Figure size 640x480 with 1 Axes>"
      ]
     },
     "metadata": {},
     "output_type": "display_data"
    }
   ],
   "source": [
    "fpr, tpr, thresholds = metrics.roc_curve(YtestKNN, predProb)\n",
    "plt.figure()\n",
    "plt.plot([0, 1], [0, 1], color=\"navy\", lw=2, linestyle=\"--\")\n",
    "plt.plot(fpr, tpr, color=\"darkorange\", lw=2, label = f\"ROC křivka (AUC = {KNNauc:.3f})\")\n",
    "plt.xlim([0.0, 1.0])\n",
    "plt.ylim([0.0, 1.05])\n",
    "plt.xlabel(\"False Positive Rate\")\n",
    "plt.ylabel(\"True Positive Rate\")\n",
    "plt.title(\"ROC křivka\")\n",
    "plt.legend(loc=\"lower right\")\n",
    "plt.show()"
   ]
  },
  {
   "cell_type": "markdown",
   "id": "dbe5a18e-0c29-49b8-abc1-0102191f2c26",
   "metadata": {},
   "source": [
    "ROC křivka leží blízko levého horního rohu, model má tedy vysokou citlivost (dokáže dobře identifikovat pozitivní případy) a nízkou chybovost."
   ]
  },
  {
   "cell_type": "markdown",
   "id": "a92de641-e249-4145-b20d-69edb72284a0",
   "metadata": {},
   "source": [
    "## Aplikace modelu na data k vyhodnocení"
   ]
  },
  {
   "cell_type": "markdown",
   "id": "1b148a73-c847-4cd2-bb7e-1ca359e8609b",
   "metadata": {},
   "source": [
    "Na závěr aplikuji svůj model na upravená data ze souboru *evaluation.csv* pomocí funkce *predict*. Tato data ale nejprve standardizuji podle vzorových dat a funkce *fit_transform* na nich aplikované. Výsledek poté uložím do souboru *results.csv*."
   ]
  },
  {
   "cell_type": "code",
   "execution_count": 366,
   "id": "0eec22f1-edd4-4b0d-a814-99bcc2644d9f",
   "metadata": {},
   "outputs": [],
   "source": [
    "scaler = StandardScaler()\n",
    "XdataStan = pd.DataFrame(scaler.fit_transform(XdataKNN), index=XdataKNN.index, columns=XdataKNN.columns)\n",
    "evlStan = pd.DataFrame(scaler.transform(evlMod), index=evlMod.index, columns=evlMod.columns)\n",
    "\n",
    "KNNmodel = KNeighborsClassifier(n_neighbors=KNNbestParamsStan[\"n_neighbors\"], metric=KNNbestParamsStan[\"metric\"], weights=KNNbestParamsStan[\"weights\"])\n",
    "KNNmodel.fit(XdataStan, YdataKNN)\n",
    "\n",
    "predict = KNNmodel.predict(evlStan)\n",
    "predict = predict.astype(int)\n",
    "\n",
    "results = pd.DataFrame({'ID': evlMod.index, 'survived': predict})\n",
    "results.set_index('ID', inplace=True)\n",
    "results.to_csv('results.csv') "
   ]
  },
  {
   "cell_type": "code",
   "execution_count": 367,
   "id": "970a1471-b1b5-4163-a2a2-328e1b8abf43",
   "metadata": {},
   "outputs": [
    {
     "data": {
      "text/html": [
       "<div>\n",
       "<style scoped>\n",
       "    .dataframe tbody tr th:only-of-type {\n",
       "        vertical-align: middle;\n",
       "    }\n",
       "\n",
       "    .dataframe tbody tr th {\n",
       "        vertical-align: top;\n",
       "    }\n",
       "\n",
       "    .dataframe thead th {\n",
       "        text-align: right;\n",
       "    }\n",
       "</style>\n",
       "<table border=\"1\" class=\"dataframe\">\n",
       "  <thead>\n",
       "    <tr style=\"text-align: right;\">\n",
       "      <th></th>\n",
       "      <th>survived</th>\n",
       "    </tr>\n",
       "    <tr>\n",
       "      <th>ID</th>\n",
       "      <th></th>\n",
       "    </tr>\n",
       "  </thead>\n",
       "  <tbody>\n",
       "    <tr>\n",
       "      <th>1000</th>\n",
       "      <td>0</td>\n",
       "    </tr>\n",
       "    <tr>\n",
       "      <th>1001</th>\n",
       "      <td>0</td>\n",
       "    </tr>\n",
       "    <tr>\n",
       "      <th>1002</th>\n",
       "      <td>0</td>\n",
       "    </tr>\n",
       "    <tr>\n",
       "      <th>1003</th>\n",
       "      <td>1</td>\n",
       "    </tr>\n",
       "    <tr>\n",
       "      <th>1004</th>\n",
       "      <td>1</td>\n",
       "    </tr>\n",
       "  </tbody>\n",
       "</table>\n",
       "</div>"
      ],
      "text/plain": [
       "      survived\n",
       "ID            \n",
       "1000         0\n",
       "1001         0\n",
       "1002         0\n",
       "1003         1\n",
       "1004         1"
      ]
     },
     "metadata": {},
     "output_type": "display_data"
    }
   ],
   "source": [
    "display(results.head())"
   ]
  }
 ],
 "metadata": {
  "kernelspec": {
   "display_name": "Python 3 (ipykernel)",
   "language": "python",
   "name": "python3"
  },
  "language_info": {
   "codemirror_mode": {
    "name": "ipython",
    "version": 3
   },
   "file_extension": ".py",
   "mimetype": "text/x-python",
   "name": "python",
   "nbconvert_exporter": "python",
   "pygments_lexer": "ipython3",
   "version": "3.10.12"
  }
 },
 "nbformat": 4,
 "nbformat_minor": 5
}
