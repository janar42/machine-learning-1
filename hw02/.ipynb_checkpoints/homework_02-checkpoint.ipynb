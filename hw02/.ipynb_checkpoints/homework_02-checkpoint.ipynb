{
 "cells": [
  {
   "cell_type": "markdown",
   "id": "0cf75ab4-bd4d-4ec2-a708-74797dbfce44",
   "metadata": {},
   "source": [
    "# Úkol č. 2 - regrese\n",
    "\n",
    "* Termíny jsou uvedeny na [courses.fit.cvut.cz/BI-ML1/homeworks/index.html](https://courses.fit.cvut.cz/BI-ML1/homeworks/index.html).\n",
    "* Pokud odevzdáte úkol po prvním termínu, ale před nejzazším termínem, budete penalizování -12 body, pozdější odevzdání je bez bodu.\n",
    "* V rámci tohoto úkolu se musíte vypořádat s regresní úlohou, s příznaky různých typů a s chybějícími hodnotami.\n",
    "* Před tím, než na nich postavíte predikční model, je třeba je nějakým způsobem převést do číselné reprezentace.\n",
    "    \n",
    "> **Úkoly jsou zadány tak, aby Vám daly prostor pro invenci. Vymyslet _jak přesně_ budete úkol řešit, je důležitou součástí zadání a originalita či nápaditost bude také hodnocena!**\n",
    "\n",
    "Využívejte buňky typu `Markdown` k vysvětlování Vašeho postupu. Za nepřehlednost budeme strhávat body.\n",
    "\n",
    "## Zdroj dat\n",
    "\n",
    "Budeme se zabývat predikcí délky dožití v různých zemích a letech.\n",
    "K dispozici máte trénovací data v souboru `data.csv` a data na vyhodnocení v souboru `evaluation.csv`.\n",
    "\n",
    "#### Seznam příznaků:\n",
    "\n",
    "* Year - Rok\n",
    "* Status - Status rozvinuté nebo rozvojové země\n",
    "* Life expectancy - Délka dožití v letech - **cílová proměnná, kterou budete predikovat**\n",
    "* Adult Mortality - Úmrtnost dospělých bez ohledu na pohlaví (pravděpodobnost, že osoby, které dosáhly věku 15 let, zemřou před dosažením věku 60 let (uvedeno na 1 000 osob)).\n",
    "* infant deaths - počet zemřelých kojenců na 1000 obyvatel\n",
    "* Alcohol - Alkohol, zaznamenaná spotřeba na obyvatele (15+) (v litrech čistého alkoholu)\n",
    "* percentage expenditure - Výdaje na zdravotnictví v procentech hrubého domácího produktu na obyvatele (%)\n",
    "* Hepatitis B - pokrytí očkováním proti hepatitidě B (HepB) u dětí ve věku 1 roku (%)\n",
    "* Measles - Spalničky - počet hlášených případů na 1000 obyvatel\n",
    "* BMI - průměrný index tělesné hmotnosti celé populace\n",
    "* under-five deaths - počet úmrtí dětí do pěti let na 1000 obyvatel\n",
    "* Polio - proočkovanost proti dětské obrně (Pol3) u dětí ve věku 1 roku (%)\n",
    "* Total expenditure - Výdaje vládních institucí na zdravotnictví jako procento celkových vládních výdajů (%)\n",
    "* Diphtheria - pokrytí očkováním proti záškrtu, tetanu a černému kašli (DTP3) u jednoletých dětí (%)\n",
    "* HIV/AIDS - počet úmrtí na 1 000 živě narozených dětí na HIV/AIDS (0-4 roky)\n",
    "* GDP - hrubý domácí produkt na obyvatele (v USD)\n",
    "* Population - počet obyvatel země\n",
    "* thinness 1-19 years - podíl dětí ve věku 10-19 let s indexem tělesné hmotnosti (BMI) menším než 2 směrodatné odchylky pod mediánem (%)\n",
    "* thinness 5-9 years - podíl dětí ve věku 5-9 let s indexem tělesné hmotnosti (BMI) menším než 2 směrodatné odchylky pod mediánem (%)\n",
    "* Income composition of resources - Index lidského rozvoje z hlediska příjmového složení zdrojů (index v rozmezí 0 až 1)\n",
    "* Schooling - počet let školní docházky (roky)\n",
    "\n",
    "\n",
    "## Pokyny k vypracování\n",
    "\n",
    "**Body zadání**, za jejichž (poctivé) vypracování získáte **25 bodů**: \n",
    "  * V notebooku načtěte data ze souboru `data.csv`. Vhodným způsobem si je rozdělte na podmnožiny, které Vám poslouží pro trénování (trénovací), porovnávání modelů (validační) a následnou predikci výkonnosti finálního modelu (testovací).\n",
    "    \n",
    "  * Proveďte základní předzpracování dat:\n",
    "    * Projděte si jednotlivé příznaky a transformujte je do vhodné podoby pro použití ve vybraném regresním modelu.\n",
    "    * Nějakým způsobem (klidně triviálním) se vypořádejte s chybějícími hodnotami. _Pozor na metodické chyby!_\n",
    "    * Můžete využívat i vizualizace. Vše stručně ale náležitě komentujte.\n",
    "<br /><br />\n",
    "  * Vytvořte **vlastní implementaci náhodného lesa**. Použijte k tomu níže předpřipravenou kostru.\n",
    "  \n",
    "  * Na připravená data postupně aplikujte Vaši předchozí implementaci modelu náhodného lesa, dále jeden z modelů **lineární regrese** nebo **hřebenové regrese**, a alespoň jeden další model podle Vašeho uvážení, přičemž pro každý z těchto modelů přiměřeně:\n",
    "    * Okomentujte vhodnost daného modelu pro daný typ úlohy.\n",
    "    * Experimentujte s normalizací (standardizace/min-max), pokud pro daný model očekáváte její příznivý vliv.\n",
    "    * Vyberte si hlavní hyperparametry k ladění a najděte jejich nejlepší hodnoty (vzhledem k RMSE).\n",
    "    * Pro model s nejlepšími hodnotami hyperparametrů na validační množině určete jeho chybu pomocí RMSE a MAE.\n",
    "    * Získané výsledky vždy řádně okomentujte.\n",
    "<br /><br />\n",
    "  * Ze všech zkoušených možností v předchozím kroku vyberte finální model a správně odhadněte, jakou chybu (RMSE) můžete očekávat na nových datech, která jste doposud neměli k dispozici. _Pozor na metodické chyby!_\n",
    "    \n",
    "  * Nakonec načtěte vyhodnocovací data ze souboru `evaluation.csv`. Pomocí finálního modelu napočítejte predikce pro tyto data. Vytvořte soubor `results.csv`, ve kterém získané predikce uložíte do sloupce **Life expectancy** a jednotlivé body identifikujete pomocí sloupců **Country** a **Year** (dodržte názvy sloupců!). Tento soubor též odevzdejte (uložte do repozitáře vedle notebooku).\n",
    "\n",
    "  * Ukázka, jak by mělo vypadat prvních několik řádků souboru `results.csv` (obecně s jinými hodnotami Life expectancy):\n",
    "  \n",
    "```\n",
    "Country,Year,Life expectancy\n",
    "Peru,2012,71.4\n",
    "Peru,2013,72.6\n",
    "...\n",
    "```\n",
    "\n",
    "\n",
    "## Poznámky k odevzdání\n",
    "\n",
    "  * Řiďte se pokyny ze stránky https://courses.fit.cvut.cz/BI-ML1/homeworks/index.html."
   ]
  },
  {
   "cell_type": "code",
   "execution_count": 66,
   "id": "a4516d4a-1be0-4eaf-88b9-3e27ec95d881",
   "metadata": {},
   "outputs": [],
   "source": [
    "import random\n",
    "import pandas as pd\n",
    "import numpy as np\n",
    "\n",
    "import matplotlib.pyplot as plt\n",
    "%matplotlib inline\n",
    "\n",
    "randomSeed = 42\n",
    "from scipy import optimize\n",
    "from sklearn.model_selection import train_test_split\n",
    "from sklearn.tree import DecisionTreeRegressor\n",
    "from sklearn.ensemble import AdaBoostRegressor\n",
    "from sklearn.model_selection import ParameterGrid\n",
    "from sklearn.linear_model import Ridge\n",
    "from sklearn import metrics\n",
    "\n",
    "from sklearn.preprocessing import MinMaxScaler\n",
    "from sklearn.preprocessing import StandardScaler\n",
    "\n",
    "from sklearn.metrics import mean_squared_error\n",
    "\n",
    "import warnings\n",
    "warnings.filterwarnings('ignore')"
   ]
  },
  {
   "cell_type": "markdown",
   "id": "60d42ffb-29cc-4cda-b9c3-a19cb05ba44d",
   "metadata": {},
   "source": [
    "## Úvod"
   ]
  },
  {
   "cell_type": "markdown",
   "id": "12534e71-eee3-4dcb-85a2-fe14bbf37016",
   "metadata": {},
   "source": [
    "Načtení dat z CSV souborů a základní informace."
   ]
  },
  {
   "cell_type": "code",
   "execution_count": 210,
   "id": "43714647-85d2-438e-8be5-553f7f1c1c23",
   "metadata": {},
   "outputs": [],
   "source": [
    "data = pd.read_csv(\"data.csv\")\n",
    "evl = pd.read_csv(\"evaluation.csv\")"
   ]
  },
  {
   "cell_type": "code",
   "execution_count": 242,
   "id": "5517ae34-f48e-4086-bfd8-554a897155f9",
   "metadata": {},
   "outputs": [
    {
     "name": "stdout",
     "output_type": "stream",
     "text": [
      "data.csv:\n"
     ]
    },
    {
     "data": {
      "text/html": [
       "<div>\n",
       "<style scoped>\n",
       "    .dataframe tbody tr th:only-of-type {\n",
       "        vertical-align: middle;\n",
       "    }\n",
       "\n",
       "    .dataframe tbody tr th {\n",
       "        vertical-align: top;\n",
       "    }\n",
       "\n",
       "    .dataframe thead th {\n",
       "        text-align: right;\n",
       "    }\n",
       "</style>\n",
       "<table border=\"1\" class=\"dataframe\">\n",
       "  <thead>\n",
       "    <tr style=\"text-align: right;\">\n",
       "      <th></th>\n",
       "      <th>Country</th>\n",
       "      <th>Year</th>\n",
       "      <th>Status</th>\n",
       "      <th>Life expectancy</th>\n",
       "      <th>Adult Mortality</th>\n",
       "      <th>infant deaths</th>\n",
       "      <th>Alcohol</th>\n",
       "      <th>percentage expenditure</th>\n",
       "      <th>Hepatitis B</th>\n",
       "      <th>Measles</th>\n",
       "      <th>...</th>\n",
       "      <th>Polio</th>\n",
       "      <th>Total expenditure</th>\n",
       "      <th>Diphtheria</th>\n",
       "      <th>HIV/AIDS</th>\n",
       "      <th>GDP</th>\n",
       "      <th>Population</th>\n",
       "      <th>thinness  1-19 years</th>\n",
       "      <th>thinness 5-9 years</th>\n",
       "      <th>Income composition of resources</th>\n",
       "      <th>Schooling</th>\n",
       "    </tr>\n",
       "  </thead>\n",
       "  <tbody>\n",
       "    <tr>\n",
       "      <th>0</th>\n",
       "      <td>0</td>\n",
       "      <td>2015</td>\n",
       "      <td>0</td>\n",
       "      <td>65.0</td>\n",
       "      <td>263.0</td>\n",
       "      <td>62</td>\n",
       "      <td>0.01</td>\n",
       "      <td>71.279624</td>\n",
       "      <td>65.0</td>\n",
       "      <td>1154</td>\n",
       "      <td>...</td>\n",
       "      <td>6.0</td>\n",
       "      <td>8.16</td>\n",
       "      <td>65.0</td>\n",
       "      <td>0.1</td>\n",
       "      <td>584.259210</td>\n",
       "      <td>33736494.0</td>\n",
       "      <td>17.2</td>\n",
       "      <td>17.3</td>\n",
       "      <td>0.479</td>\n",
       "      <td>10.1</td>\n",
       "    </tr>\n",
       "    <tr>\n",
       "      <th>1</th>\n",
       "      <td>0</td>\n",
       "      <td>2014</td>\n",
       "      <td>0</td>\n",
       "      <td>59.9</td>\n",
       "      <td>271.0</td>\n",
       "      <td>64</td>\n",
       "      <td>0.01</td>\n",
       "      <td>73.523582</td>\n",
       "      <td>62.0</td>\n",
       "      <td>492</td>\n",
       "      <td>...</td>\n",
       "      <td>58.0</td>\n",
       "      <td>8.18</td>\n",
       "      <td>62.0</td>\n",
       "      <td>0.1</td>\n",
       "      <td>612.696514</td>\n",
       "      <td>327582.0</td>\n",
       "      <td>17.5</td>\n",
       "      <td>17.5</td>\n",
       "      <td>0.476</td>\n",
       "      <td>10.0</td>\n",
       "    </tr>\n",
       "    <tr>\n",
       "      <th>2</th>\n",
       "      <td>0</td>\n",
       "      <td>2013</td>\n",
       "      <td>0</td>\n",
       "      <td>59.9</td>\n",
       "      <td>268.0</td>\n",
       "      <td>66</td>\n",
       "      <td>0.01</td>\n",
       "      <td>73.219243</td>\n",
       "      <td>64.0</td>\n",
       "      <td>430</td>\n",
       "      <td>...</td>\n",
       "      <td>62.0</td>\n",
       "      <td>8.13</td>\n",
       "      <td>64.0</td>\n",
       "      <td>0.1</td>\n",
       "      <td>631.744976</td>\n",
       "      <td>31731688.0</td>\n",
       "      <td>17.7</td>\n",
       "      <td>17.7</td>\n",
       "      <td>0.470</td>\n",
       "      <td>9.9</td>\n",
       "    </tr>\n",
       "    <tr>\n",
       "      <th>3</th>\n",
       "      <td>0</td>\n",
       "      <td>2012</td>\n",
       "      <td>0</td>\n",
       "      <td>59.5</td>\n",
       "      <td>272.0</td>\n",
       "      <td>69</td>\n",
       "      <td>0.01</td>\n",
       "      <td>78.184215</td>\n",
       "      <td>67.0</td>\n",
       "      <td>2787</td>\n",
       "      <td>...</td>\n",
       "      <td>67.0</td>\n",
       "      <td>8.52</td>\n",
       "      <td>67.0</td>\n",
       "      <td>0.1</td>\n",
       "      <td>669.959000</td>\n",
       "      <td>3696958.0</td>\n",
       "      <td>17.9</td>\n",
       "      <td>18.0</td>\n",
       "      <td>0.463</td>\n",
       "      <td>9.8</td>\n",
       "    </tr>\n",
       "    <tr>\n",
       "      <th>4</th>\n",
       "      <td>0</td>\n",
       "      <td>2011</td>\n",
       "      <td>0</td>\n",
       "      <td>59.2</td>\n",
       "      <td>275.0</td>\n",
       "      <td>71</td>\n",
       "      <td>0.01</td>\n",
       "      <td>7.097109</td>\n",
       "      <td>68.0</td>\n",
       "      <td>3013</td>\n",
       "      <td>...</td>\n",
       "      <td>68.0</td>\n",
       "      <td>7.87</td>\n",
       "      <td>68.0</td>\n",
       "      <td>0.1</td>\n",
       "      <td>63.537231</td>\n",
       "      <td>2978599.0</td>\n",
       "      <td>18.2</td>\n",
       "      <td>18.2</td>\n",
       "      <td>0.454</td>\n",
       "      <td>9.5</td>\n",
       "    </tr>\n",
       "  </tbody>\n",
       "</table>\n",
       "<p>5 rows × 22 columns</p>\n",
       "</div>"
      ],
      "text/plain": [
       "   Country  Year Status  Life expectancy  Adult Mortality  infant deaths  \\\n",
       "0        0  2015      0             65.0            263.0             62   \n",
       "1        0  2014      0             59.9            271.0             64   \n",
       "2        0  2013      0             59.9            268.0             66   \n",
       "3        0  2012      0             59.5            272.0             69   \n",
       "4        0  2011      0             59.2            275.0             71   \n",
       "\n",
       "   Alcohol  percentage expenditure  Hepatitis B  Measles  ...  Polio  \\\n",
       "0     0.01               71.279624         65.0     1154  ...    6.0   \n",
       "1     0.01               73.523582         62.0      492  ...   58.0   \n",
       "2     0.01               73.219243         64.0      430  ...   62.0   \n",
       "3     0.01               78.184215         67.0     2787  ...   67.0   \n",
       "4     0.01                7.097109         68.0     3013  ...   68.0   \n",
       "\n",
       "   Total expenditure  Diphtheria  HIV/AIDS         GDP  Population  \\\n",
       "0               8.16        65.0       0.1  584.259210  33736494.0   \n",
       "1               8.18        62.0       0.1  612.696514    327582.0   \n",
       "2               8.13        64.0       0.1  631.744976  31731688.0   \n",
       "3               8.52        67.0       0.1  669.959000   3696958.0   \n",
       "4               7.87        68.0       0.1   63.537231   2978599.0   \n",
       "\n",
       "   thinness  1-19 years  thinness 5-9 years  Income composition of resources  \\\n",
       "0                  17.2                17.3                            0.479   \n",
       "1                  17.5                17.5                            0.476   \n",
       "2                  17.7                17.7                            0.470   \n",
       "3                  17.9                18.0                            0.463   \n",
       "4                  18.2                18.2                            0.454   \n",
       "\n",
       "   Schooling  \n",
       "0       10.1  \n",
       "1       10.0  \n",
       "2        9.9  \n",
       "3        9.8  \n",
       "4        9.5  \n",
       "\n",
       "[5 rows x 22 columns]"
      ]
     },
     "metadata": {},
     "output_type": "display_data"
    },
    {
     "name": "stdout",
     "output_type": "stream",
     "text": [
      "<class 'pandas.core.frame.DataFrame'>\n",
      "RangeIndex: 2718 entries, 0 to 2717\n",
      "Data columns (total 22 columns):\n",
      " #   Column                           Non-Null Count  Dtype   \n",
      "---  ------                           --------------  -----   \n",
      " 0   Country                          2718 non-null   int64   \n",
      " 1   Year                             2718 non-null   int64   \n",
      " 2   Status                           2718 non-null   category\n",
      " 3   Life expectancy                  2718 non-null   float64 \n",
      " 4   Adult Mortality                  2718 non-null   float64 \n",
      " 5   infant deaths                    2718 non-null   int64   \n",
      " 6   Alcohol                          2558 non-null   float64 \n",
      " 7   percentage expenditure           2718 non-null   float64 \n",
      " 8   Hepatitis B                      2187 non-null   float64 \n",
      " 9   Measles                          2718 non-null   int64   \n",
      " 10  BMI                              2686 non-null   float64 \n",
      " 11  under-five deaths                2718 non-null   int64   \n",
      " 12  Polio                            2699 non-null   float64 \n",
      " 13  Total expenditure                2526 non-null   float64 \n",
      " 14  Diphtheria                       2699 non-null   float64 \n",
      " 15  HIV/AIDS                         2718 non-null   float64 \n",
      " 16  GDP                              2311 non-null   float64 \n",
      " 17  Population                       2104 non-null   float64 \n",
      " 18  thinness  1-19 years             2686 non-null   float64 \n",
      " 19  thinness 5-9 years               2686 non-null   float64 \n",
      " 20  Income composition of resources  2570 non-null   float64 \n",
      " 21  Schooling                        2570 non-null   float64 \n",
      "dtypes: category(1), float64(16), int64(5)\n",
      "memory usage: 448.8 KB\n"
     ]
    },
    {
     "data": {
      "text/plain": [
       "None"
      ]
     },
     "metadata": {},
     "output_type": "display_data"
    },
    {
     "name": "stdout",
     "output_type": "stream",
     "text": [
      "\n",
      "Počet prázdných řádků v každém sloupci (data.csv):\n"
     ]
    },
    {
     "data": {
      "text/plain": [
       "Country                              0\n",
       "Year                                 0\n",
       "Status                               0\n",
       "Life expectancy                      0\n",
       "Adult Mortality                      0\n",
       "infant deaths                        0\n",
       "Alcohol                            160\n",
       "percentage expenditure               0\n",
       "Hepatitis B                        531\n",
       "Measles                              0\n",
       "BMI                                 32\n",
       "under-five deaths                    0\n",
       "Polio                               19\n",
       "Total expenditure                  192\n",
       "Diphtheria                          19\n",
       "HIV/AIDS                             0\n",
       "GDP                                407\n",
       "Population                         614\n",
       "thinness  1-19 years                32\n",
       "thinness 5-9 years                  32\n",
       "Income composition of resources    148\n",
       "Schooling                          148\n",
       "dtype: int64"
      ]
     },
     "metadata": {},
     "output_type": "display_data"
    },
    {
     "name": "stdout",
     "output_type": "stream",
     "text": [
      "\n",
      "evaluation.csv:\n"
     ]
    },
    {
     "data": {
      "text/html": [
       "<div>\n",
       "<style scoped>\n",
       "    .dataframe tbody tr th:only-of-type {\n",
       "        vertical-align: middle;\n",
       "    }\n",
       "\n",
       "    .dataframe tbody tr th {\n",
       "        vertical-align: top;\n",
       "    }\n",
       "\n",
       "    .dataframe thead th {\n",
       "        text-align: right;\n",
       "    }\n",
       "</style>\n",
       "<table border=\"1\" class=\"dataframe\">\n",
       "  <thead>\n",
       "    <tr style=\"text-align: right;\">\n",
       "      <th></th>\n",
       "      <th>Country</th>\n",
       "      <th>Year</th>\n",
       "      <th>Status</th>\n",
       "      <th>Adult Mortality</th>\n",
       "      <th>infant deaths</th>\n",
       "      <th>Alcohol</th>\n",
       "      <th>percentage expenditure</th>\n",
       "      <th>Hepatitis B</th>\n",
       "      <th>Measles</th>\n",
       "      <th>BMI</th>\n",
       "      <th>...</th>\n",
       "      <th>Polio</th>\n",
       "      <th>Total expenditure</th>\n",
       "      <th>Diphtheria</th>\n",
       "      <th>HIV/AIDS</th>\n",
       "      <th>GDP</th>\n",
       "      <th>Population</th>\n",
       "      <th>thinness  1-19 years</th>\n",
       "      <th>thinness 5-9 years</th>\n",
       "      <th>Income composition of resources</th>\n",
       "      <th>Schooling</th>\n",
       "    </tr>\n",
       "  </thead>\n",
       "  <tbody>\n",
       "    <tr>\n",
       "      <th>0</th>\n",
       "      <td>1</td>\n",
       "      <td>2015</td>\n",
       "      <td>0</td>\n",
       "      <td>74.0</td>\n",
       "      <td>0</td>\n",
       "      <td>4.60</td>\n",
       "      <td>364.975229</td>\n",
       "      <td>99.0</td>\n",
       "      <td>0</td>\n",
       "      <td>58.0</td>\n",
       "      <td>...</td>\n",
       "      <td>99.0</td>\n",
       "      <td>6.00</td>\n",
       "      <td>99.0</td>\n",
       "      <td>0.1</td>\n",
       "      <td>3954.227830</td>\n",
       "      <td>28873.0</td>\n",
       "      <td>1.2</td>\n",
       "      <td>1.3</td>\n",
       "      <td>0.762</td>\n",
       "      <td>14.2</td>\n",
       "    </tr>\n",
       "    <tr>\n",
       "      <th>1</th>\n",
       "      <td>1</td>\n",
       "      <td>2014</td>\n",
       "      <td>0</td>\n",
       "      <td>8.0</td>\n",
       "      <td>0</td>\n",
       "      <td>4.51</td>\n",
       "      <td>428.749067</td>\n",
       "      <td>98.0</td>\n",
       "      <td>0</td>\n",
       "      <td>57.2</td>\n",
       "      <td>...</td>\n",
       "      <td>98.0</td>\n",
       "      <td>5.88</td>\n",
       "      <td>98.0</td>\n",
       "      <td>0.1</td>\n",
       "      <td>4575.763787</td>\n",
       "      <td>288914.0</td>\n",
       "      <td>1.2</td>\n",
       "      <td>1.3</td>\n",
       "      <td>0.761</td>\n",
       "      <td>14.2</td>\n",
       "    </tr>\n",
       "    <tr>\n",
       "      <th>2</th>\n",
       "      <td>1</td>\n",
       "      <td>2013</td>\n",
       "      <td>0</td>\n",
       "      <td>84.0</td>\n",
       "      <td>0</td>\n",
       "      <td>4.76</td>\n",
       "      <td>430.876979</td>\n",
       "      <td>99.0</td>\n",
       "      <td>0</td>\n",
       "      <td>56.5</td>\n",
       "      <td>...</td>\n",
       "      <td>99.0</td>\n",
       "      <td>5.66</td>\n",
       "      <td>99.0</td>\n",
       "      <td>0.1</td>\n",
       "      <td>4414.723140</td>\n",
       "      <td>289592.0</td>\n",
       "      <td>1.3</td>\n",
       "      <td>1.4</td>\n",
       "      <td>0.759</td>\n",
       "      <td>14.2</td>\n",
       "    </tr>\n",
       "    <tr>\n",
       "      <th>3</th>\n",
       "      <td>1</td>\n",
       "      <td>2012</td>\n",
       "      <td>0</td>\n",
       "      <td>86.0</td>\n",
       "      <td>0</td>\n",
       "      <td>5.14</td>\n",
       "      <td>412.443356</td>\n",
       "      <td>99.0</td>\n",
       "      <td>9</td>\n",
       "      <td>55.8</td>\n",
       "      <td>...</td>\n",
       "      <td>99.0</td>\n",
       "      <td>5.59</td>\n",
       "      <td>99.0</td>\n",
       "      <td>0.1</td>\n",
       "      <td>4247.614380</td>\n",
       "      <td>2941.0</td>\n",
       "      <td>1.3</td>\n",
       "      <td>1.4</td>\n",
       "      <td>0.752</td>\n",
       "      <td>14.2</td>\n",
       "    </tr>\n",
       "    <tr>\n",
       "      <th>4</th>\n",
       "      <td>1</td>\n",
       "      <td>2011</td>\n",
       "      <td>0</td>\n",
       "      <td>88.0</td>\n",
       "      <td>0</td>\n",
       "      <td>5.37</td>\n",
       "      <td>437.062100</td>\n",
       "      <td>99.0</td>\n",
       "      <td>28</td>\n",
       "      <td>55.1</td>\n",
       "      <td>...</td>\n",
       "      <td>99.0</td>\n",
       "      <td>5.71</td>\n",
       "      <td>99.0</td>\n",
       "      <td>0.1</td>\n",
       "      <td>4437.178680</td>\n",
       "      <td>295195.0</td>\n",
       "      <td>1.4</td>\n",
       "      <td>1.5</td>\n",
       "      <td>0.738</td>\n",
       "      <td>13.3</td>\n",
       "    </tr>\n",
       "  </tbody>\n",
       "</table>\n",
       "<p>5 rows × 21 columns</p>\n",
       "</div>"
      ],
      "text/plain": [
       "   Country  Year Status  Adult Mortality  infant deaths  Alcohol  \\\n",
       "0        1  2015      0             74.0              0     4.60   \n",
       "1        1  2014      0              8.0              0     4.51   \n",
       "2        1  2013      0             84.0              0     4.76   \n",
       "3        1  2012      0             86.0              0     5.14   \n",
       "4        1  2011      0             88.0              0     5.37   \n",
       "\n",
       "   percentage expenditure  Hepatitis B  Measles   BMI  ...  Polio  \\\n",
       "0              364.975229         99.0        0  58.0  ...   99.0   \n",
       "1              428.749067         98.0        0  57.2  ...   98.0   \n",
       "2              430.876979         99.0        0  56.5  ...   99.0   \n",
       "3              412.443356         99.0        9  55.8  ...   99.0   \n",
       "4              437.062100         99.0       28  55.1  ...   99.0   \n",
       "\n",
       "   Total expenditure  Diphtheria  HIV/AIDS          GDP  Population  \\\n",
       "0               6.00        99.0       0.1  3954.227830     28873.0   \n",
       "1               5.88        98.0       0.1  4575.763787    288914.0   \n",
       "2               5.66        99.0       0.1  4414.723140    289592.0   \n",
       "3               5.59        99.0       0.1  4247.614380      2941.0   \n",
       "4               5.71        99.0       0.1  4437.178680    295195.0   \n",
       "\n",
       "   thinness  1-19 years  thinness 5-9 years  Income composition of resources  \\\n",
       "0                   1.2                 1.3                            0.762   \n",
       "1                   1.2                 1.3                            0.761   \n",
       "2                   1.3                 1.4                            0.759   \n",
       "3                   1.3                 1.4                            0.752   \n",
       "4                   1.4                 1.5                            0.738   \n",
       "\n",
       "   Schooling  \n",
       "0       14.2  \n",
       "1       14.2  \n",
       "2       14.2  \n",
       "3       14.2  \n",
       "4       13.3  \n",
       "\n",
       "[5 rows x 21 columns]"
      ]
     },
     "metadata": {},
     "output_type": "display_data"
    },
    {
     "name": "stdout",
     "output_type": "stream",
     "text": [
      "<class 'pandas.core.frame.DataFrame'>\n",
      "RangeIndex: 210 entries, 0 to 209\n",
      "Data columns (total 21 columns):\n",
      " #   Column                           Non-Null Count  Dtype   \n",
      "---  ------                           --------------  -----   \n",
      " 0   Country                          210 non-null    int64   \n",
      " 1   Year                             210 non-null    int64   \n",
      " 2   Status                           210 non-null    category\n",
      " 3   Adult Mortality                  210 non-null    float64 \n",
      " 4   infant deaths                    210 non-null    int64   \n",
      " 5   Alcohol                          210 non-null    float64 \n",
      " 6   percentage expenditure           210 non-null    float64 \n",
      " 7   Hepatitis B                      210 non-null    float64 \n",
      " 8   Measles                          210 non-null    int64   \n",
      " 9   BMI                              210 non-null    float64 \n",
      " 10  under-five deaths                210 non-null    int64   \n",
      " 11  Polio                            210 non-null    float64 \n",
      " 12  Total expenditure                210 non-null    float64 \n",
      " 13  Diphtheria                       210 non-null    float64 \n",
      " 14  HIV/AIDS                         210 non-null    float64 \n",
      " 15  GDP                              210 non-null    float64 \n",
      " 16  Population                       210 non-null    float64 \n",
      " 17  thinness  1-19 years             210 non-null    float64 \n",
      " 18  thinness 5-9 years               210 non-null    float64 \n",
      " 19  Income composition of resources  210 non-null    float64 \n",
      " 20  Schooling                        210 non-null    float64 \n",
      "dtypes: category(1), float64(15), int64(5)\n",
      "memory usage: 33.3 KB\n"
     ]
    },
    {
     "data": {
      "text/plain": [
       "None"
      ]
     },
     "metadata": {},
     "output_type": "display_data"
    },
    {
     "name": "stdout",
     "output_type": "stream",
     "text": [
      "\n",
      "Počet prázdných řádků v každém sloupci (evaluation.csv):\n"
     ]
    },
    {
     "data": {
      "text/plain": [
       "Country                            0\n",
       "Year                               0\n",
       "Status                             0\n",
       "Adult Mortality                    0\n",
       "infant deaths                      0\n",
       "Alcohol                            0\n",
       "percentage expenditure             0\n",
       "Hepatitis B                        0\n",
       "Measles                            0\n",
       "BMI                                0\n",
       "under-five deaths                  0\n",
       "Polio                              0\n",
       "Total expenditure                  0\n",
       "Diphtheria                         0\n",
       "HIV/AIDS                           0\n",
       "GDP                                0\n",
       "Population                         0\n",
       "thinness  1-19 years               0\n",
       "thinness 5-9 years                 0\n",
       "Income composition of resources    0\n",
       "Schooling                          0\n",
       "dtype: int64"
      ]
     },
     "metadata": {},
     "output_type": "display_data"
    }
   ],
   "source": [
    "print(\"data.csv:\")\n",
    "display(data.head())\n",
    "display(data.info())\n",
    "print(\"\\nPočet prázdných řádků v každém sloupci (data.csv):\")\n",
    "display(data.isnull().sum(axis=0))\n",
    "print(\"\\nevaluation.csv:\")\n",
    "display(evl.head())\n",
    "display(evl.info())\n",
    "print(\"\\nPočet prázdných řádků v každém sloupci (evaluation.csv):\")\n",
    "display(evl.isnull().sum(axis=0))"
   ]
  },
  {
   "cell_type": "markdown",
   "id": "ad5dc666-fb0c-4aa0-8934-ff560a9f7c39",
   "metadata": {},
   "source": [
    "## Příprava dat"
   ]
  },
  {
   "cell_type": "markdown",
   "id": "469b531e-1609-4a56-b9db-c023a903e06e",
   "metadata": {},
   "source": [
    "* pouze dvě proměnné jsou typu object, sloupec *Country* změním na kategorickou proměnnou a každému státu přiřadím číselnou hodnotu\n",
    "* proměnná *Status* je ordinální, změním slovní hodnotu na číselnou tak, aby Developing < Developed\n",
    "* prázdné hodnoty nahradím průměrem daného sloupce z trénovací množiny\n",
    "* sloupce typu object neobsahují prázdné hodnoty\n",
    "* rozdělím data na testovací, validační a trénovací množinu v poměru 60:20:20"
   ]
  },
  {
   "cell_type": "code",
   "execution_count": 212,
   "id": "703a299f-bc9f-4e81-b309-0ec25ac2538a",
   "metadata": {},
   "outputs": [],
   "source": [
    "evlCountry = evl[\"Country\"]\n",
    "evlYear = evl[\"Year\"]"
   ]
  },
  {
   "cell_type": "code",
   "execution_count": 213,
   "id": "e44c2429-b663-4661-aa1e-1efa505e7ab4",
   "metadata": {},
   "outputs": [],
   "source": [
    "countries = pd.concat([data['Country'], evl['Country']]).unique()\n",
    "countryCodes = {country: code for code, country in enumerate(countries)}\n",
    "data['Country'] = data['Country'].map(countryCodes)\n",
    "evl['Country'] = evl['Country'].map(countryCodes)"
   ]
  },
  {
   "cell_type": "code",
   "execution_count": 214,
   "id": "c743a6de-2634-4d23-a03a-0aac42ad417d",
   "metadata": {},
   "outputs": [
    {
     "name": "stdout",
     "output_type": "stream",
     "text": [
      "['Developing' 'Developed']\n"
     ]
    }
   ],
   "source": [
    "print(data.Status.unique())"
   ]
  },
  {
   "cell_type": "code",
   "execution_count": 215,
   "id": "ca297b7d-0399-4a6e-b746-b1c7d9dda2b7",
   "metadata": {},
   "outputs": [
    {
     "name": "stdout",
     "output_type": "stream",
     "text": [
      "[0, 1]\n",
      "Categories (2, int64): [0 < 1]\n"
     ]
    }
   ],
   "source": [
    "statuses = data.Status.unique()\n",
    "statusCategory = pd.api.types.CategoricalDtype(categories=statuses, ordered=True)\n",
    "data.Status = data.Status.astype(statusCategory)\n",
    "evl.Status = evl.Status.astype(statusCategory)\n",
    "data['Status'] = data['Status'].map({'Developing': 0, 'Developed': 1})\n",
    "evl['Status'] = evl['Status'].map({'Developing': 0, 'Developed': 1})\n",
    "print(data.Status.unique())"
   ]
  },
  {
   "cell_type": "code",
   "execution_count": 234,
   "id": "c3e46901-113d-4b90-9f61-71c583d4e55a",
   "metadata": {},
   "outputs": [],
   "source": [
    "Xdata = data.drop(columns=\"Life expectancy\")\n",
    "XdataCp = data.drop(columns=\"Life expectancy\")\n",
    "Ydata = data['Life expectancy']"
   ]
  },
  {
   "cell_type": "code",
   "execution_count": 217,
   "id": "ad822070-2706-4495-9930-11440c219769",
   "metadata": {},
   "outputs": [],
   "source": [
    "Xtrain, Xtest, Ytrain, Ytest = train_test_split(Xdata, Ydata, test_size=0.4, random_state=randomSeed)\n",
    "Xval, Xtest, Yval, Ytest = train_test_split(Xtest, Ytest, test_size=0.5, random_state=randomSeed)"
   ]
  },
  {
   "cell_type": "code",
   "execution_count": 236,
   "id": "2cfa0938-996e-4a1a-aedf-2e557f49dc71",
   "metadata": {},
   "outputs": [
    {
     "data": {
      "text/plain": [
       "(1630, 21)"
      ]
     },
     "metadata": {},
     "output_type": "display_data"
    },
    {
     "data": {
      "text/plain": [
       "(1630,)"
      ]
     },
     "metadata": {},
     "output_type": "display_data"
    },
    {
     "data": {
      "text/plain": [
       "(544, 21)"
      ]
     },
     "metadata": {},
     "output_type": "display_data"
    },
    {
     "data": {
      "text/plain": [
       "(544,)"
      ]
     },
     "metadata": {},
     "output_type": "display_data"
    },
    {
     "data": {
      "text/plain": [
       "(544, 21)"
      ]
     },
     "metadata": {},
     "output_type": "display_data"
    },
    {
     "data": {
      "text/plain": [
       "(544,)"
      ]
     },
     "metadata": {},
     "output_type": "display_data"
    }
   ],
   "source": [
    "display(Xtrain.shape)\n",
    "display(Ytrain.shape)\n",
    "display(Xval.shape)\n",
    "display(Yval.shape)\n",
    "display(Xtest.shape)\n",
    "display(Ytest.shape)"
   ]
  },
  {
   "cell_type": "code",
   "execution_count": 219,
   "id": "c533f32e-5e98-4076-a14d-36031b15ef6c",
   "metadata": {},
   "outputs": [],
   "source": [
    "nullCols = data.columns[data.isnull().any()].tolist()"
   ]
  },
  {
   "cell_type": "code",
   "execution_count": 220,
   "id": "fcd331d7-fabe-445a-a946-2a356500f833",
   "metadata": {},
   "outputs": [],
   "source": [
    "def nanToMean(dataset, column):\n",
    "    meanValues = Xtrain.groupby('Country')[column].mean()\n",
    "    overallMean = Xtrain[column].mean()\n",
    "    \n",
    "    for country, mean in meanValues.items():\n",
    "        if not pd.isnull(mean):\n",
    "            val = (dataset['Country'] == country) & (dataset[column].isnull())\n",
    "            dataset.loc[val, column] = mean\n",
    "        else:\n",
    "            val = (dataset['Country'] == country) & (dataset[column].isnull())\n",
    "            dataset.loc[val, column] = overallMean\n",
    "    return dataset"
   ]
  },
  {
   "cell_type": "code",
   "execution_count": 237,
   "id": "53540ba1-f705-4cf6-a98b-75bd32f93b99",
   "metadata": {},
   "outputs": [],
   "source": [
    "for nullCol in nullCols:\n",
    "    nanToMean(Xtrain, nullCol)\n",
    "\n",
    "for nullCol in nullCols:\n",
    "    nanToMean(Xval, nullCol)\n",
    "\n",
    "for nullCol in nullCols:\n",
    "    nanToMean(Xtest, nullCol)\n",
    "\n",
    "for nullCol in nullCols:\n",
    "    nanToMean(evl, nullCol)\n",
    "\n",
    "for nullCol in nullCols:\n",
    "    nanToMean(XdataCp, nullCol)"
   ]
  },
  {
   "cell_type": "markdown",
   "id": "c4887c67-f8e9-4d30-a0e4-ffe29f3d693f",
   "metadata": {},
   "source": [
    "## Náhodný les"
   ]
  },
  {
   "cell_type": "markdown",
   "id": "c0c13a10-0b56-4c7e-9ddb-c97b13cdae35",
   "metadata": {},
   "source": [
    "### Výhody modelu při regresi\n",
    "\n",
    "* každý rozhodovací strom je trénován na jiném vzorku dat a díky tomu je snížené riziko přeučení modelu\n",
    "* díky tomu je taky odolnější vůči šumu v datech a odlehlé hodnoty tak mají menší vliv na výslednou predikci\n",
    "* průměruje výsledky více stromů a díky tomu je přesnější\n",
    "* dokáže modelovat i nelineární vztah mezi proměnnými\n",
    "* nevyžaduje nějaké určité rozdělení dat "
   ]
  },
  {
   "cell_type": "markdown",
   "id": "3271db81-a37f-4ef8-bc1f-f04fe7688f94",
   "metadata": {},
   "source": [
    "#### Hyperparametry k ladění\n",
    "\n",
    "* *n_estimators* - počet stromů v náhodném lese\n",
    "* *max_samples* - počet vzorků z trénovací množiny použitých k trénování každého stromu\n",
    "* *max_depth* - maximální hloubka každého stromu\n",
    "* *max_features* - maximální počet proměnných, které jsou potřeba k rozhodnutí na každém uzlu stromu\n",
    "* *normalization* - jaká úprava se použije na data, zde zkouším MinMax normalizaci, standardizaci a žádnou úpravu dat\n",
    "\n",
    "Hledám model s nejnižším RMSE na validační množině. "
   ]
  },
  {
   "cell_type": "code",
   "execution_count": 177,
   "id": "8c8ee368-e9e9-4171-a343-779a07a6dfe9",
   "metadata": {},
   "outputs": [],
   "source": [
    "class CustomRandomForest:\n",
    "\n",
    "    def __init__(self, n_estimators, max_samples, max_depth, **kwargs):\n",
    "        \n",
    "        self.n_estimators = n_estimators\n",
    "        self.max_samples = max_samples\n",
    "        self.max_depth = max_depth\n",
    "        self.kwargs = kwargs\n",
    "        self.trees = []\n",
    "        \n",
    "    def fit(self, X, y):\n",
    "        \n",
    "        for _ in range(self.n_estimators):\n",
    "            rSeed = random.randint(self.n_estimators, (self.n_estimators * 3) + 10)\n",
    "            XSample = X.sample(n=self.max_samples, random_state=rSeed)\n",
    "            ySample = y.sample(n=self.max_samples, random_state=rSeed)\n",
    "\n",
    "            model = DecisionTreeRegressor(max_depth=self.max_depth, **self.kwargs)\n",
    "            model.fit(XSample, ySample)\n",
    "\n",
    "            self.trees.append(model)\n",
    "        \n",
    "    def predict(self, X):\n",
    "       \n",
    "        yPredicted = np.zeros((X.shape[0],self.n_estimators))\n",
    "\n",
    "        for i, tree in enumerate(self.trees):\n",
    "            yPredicted[:, i] = tree.predict(X)\n",
    "\n",
    "        yPredicted = np.mean(yPredicted, axis=1)\n",
    "        return yPredicted\n"
   ]
  },
  {
   "cell_type": "code",
   "execution_count": 243,
   "id": "3f7fe1cf-a54d-4bac-ba2c-f14470149e21",
   "metadata": {},
   "outputs": [],
   "source": [
    "RFparamGrid = {\n",
    "    'n_estimators' : range(5, 40, 5),\n",
    "    'max_samples' : range(100, len(Xtrain), 200),\n",
    "    'max_depth' : range(1, 8),\n",
    "    'max_features' : ['sqrt', None],\n",
    "    'normalization' : [None, 'Standard', 'MinMax']\n",
    "}\n",
    "RFparamComb = ParameterGrid(RFparamGrid)"
   ]
  },
  {
   "cell_type": "code",
   "execution_count": 81,
   "id": "2915c321-8c23-4e62-b9eb-eb369d40cd62",
   "metadata": {},
   "outputs": [],
   "source": [
    "RFbestParams = None\n",
    "RFbestRMSE = float(\"inf\")\n",
    "\n",
    "for params in RFparamComb:\n",
    "    XtrainCopy = Xtrain.copy()\n",
    "    XvalCopy = Xval.copy()\n",
    "\n",
    "    if params['normalization'] == 'Standard':\n",
    "        scaler = StandardScaler()\n",
    "        XtrainCopy = pd.DataFrame(scaler.fit_transform(Xtrain), index=Xtrain.index, columns=Xtrain.columns)\n",
    "        XvalCopy = pd.DataFrame(scaler.transform(Xval), index=Xval.index, columns=Xval.columns)\n",
    "    elif params['normalization'] == 'MinMax':\n",
    "        scaler = MinMaxScaler()\n",
    "        XtrainCopy = pd.DataFrame(scaler.fit_transform(Xtrain), index=Xtrain.index, columns=Xtrain.columns)\n",
    "        XvalCopy = pd.DataFrame(scaler.transform(Xval), index=Xval.index, columns=Xval.columns)\n",
    "    \n",
    "    rf = CustomRandomForest(n_estimators=params['n_estimators'],\n",
    "                            max_samples=params['max_samples'],\n",
    "                            max_depth=params['max_depth'],\n",
    "                            max_features=params['max_features'])\n",
    "    rf.fit(XtrainCopy, Ytrain)\n",
    "    Ypred = rf.predict(XvalCopy)\n",
    "\n",
    "    rmse = metrics.root_mean_squared_error(Yval, Ypred)\n",
    "    if rmse < RFbestRMSE:\n",
    "        RFbestRMSE = rmse\n",
    "        RFbestParams = params"
   ]
  },
  {
   "cell_type": "code",
   "execution_count": 244,
   "id": "565079cb-47a2-4cb7-a66d-80d4d8e15a86",
   "metadata": {},
   "outputs": [
    {
     "name": "stdout",
     "output_type": "stream",
     "text": [
      "Nejlepší parametry {'max_depth': 7, 'max_features': None, 'max_samples': 1100, 'n_estimators': 25, 'normalization': 'Standard'} a RMSE na validační množině 2.244052\n"
     ]
    }
   ],
   "source": [
    "print(f\"Nejlepší parametry {RFbestParams} a RMSE na validační množině {RFbestRMSE:.6f}\")"
   ]
  },
  {
   "cell_type": "markdown",
   "id": "8395ffbd-1015-407c-a145-3498e3754725",
   "metadata": {},
   "source": [
    "RMSE nejlepšího modelu vyšlo 2.244052, což je průměrná velikost chyby modelu měřená ve stejných jednotkách jako vysvělovaná proměnná. Tedy můj nejlepší model se splete průměrně o 2.244 let délky dožití."
   ]
  },
  {
   "cell_type": "markdown",
   "id": "d2038f91-f821-4d08-b6f3-2bdcbc6b4e55",
   "metadata": {},
   "source": [
    "## Hřebenová regrese"
   ]
  },
  {
   "cell_type": "markdown",
   "id": "5cd243dc-63ea-4a9a-98a4-cc2fa09ea728",
   "metadata": {},
   "source": [
    "### Výhody modelu\n",
    "\n",
    "* vůči přeučení je robustnější než lineární regrese\n",
    "* zvládá multikolinearitu proměnných\n",
    "* přiliš složité modely jsou penalizovány, což zabraňuje přehnanému přizpůsobení trénovacím datům"
   ]
  },
  {
   "cell_type": "markdown",
   "id": "e278f763-bd95-4811-bb75-c22c6d332a26",
   "metadata": {},
   "source": [
    "V následujícím kódu hledám optimální model hřebenové regrese pro data bez úpravy, standardizovaná a normalizovaná. Zkouším hodnoty alfa z rozsahu 1-500 a pomocí funkce optimize hledám takovou hodnotu, která minimalizuje RMSE na validační množině. Pro každý druh dat vykreslím graf zobrazující vztah RMSE a hodnoty alfaα."
   ]
  },
  {
   "cell_type": "code",
   "execution_count": 249,
   "id": "7fca7528-4937-425f-a5a2-952d2bad2d4f",
   "metadata": {},
   "outputs": [
    {
     "data": {
      "image/png": "[encoded data removed]",
      "text/plain": [
       "<Figure size 800x600 with 1 Axes>"
      ]
     },
     "metadata": {},
     "output_type": "display_data"
    },
    {
     "name": "stdout",
     "output_type": "stream",
     "text": [
      "Optimal alpha      fun: 4.345861328613002\n",
      " message: 'Solution found.'\n",
      "    nfev: 38\n",
      "     nit: 38\n",
      "  status: 0\n",
      " success: True\n",
      "       x: 0.10000406819977517\n",
      "\n",
      "\n",
      "Validační RMSE: 4.34586\n"
     ]
    }
   ],
   "source": [
    "def get_opt_ridge_model(Xtrain, Xval):\n",
    "    def ridgeRMSE(alpha):\n",
    "        clf = Ridge(alpha=alpha)\n",
    "        clf.fit(Xtrain, Ytrain)\n",
    "        return metrics.root_mean_squared_error(Yval, clf.predict(Xval))\n",
    "\n",
    "    alphas = np.linspace(1,500,100)\n",
    "    alphasResults = [ridgeRMSE(alpha) for alpha in alphas]\n",
    "    plt.figure(figsize=(8, 6))\n",
    "    plt.plot(alphas, alphasResults, '.', color='red', label='RMSE na validační množině')\n",
    "    plt.xlabel('Hodnota alpha')\n",
    "    plt.ylabel('RMSE na validační množině')\n",
    "    plt.show()\n",
    "\n",
    "    optAlpha = optimize.minimize_scalar(ridgeRMSE, options = {'maxiter': 50}, method = 'bounded', bounds=(0.1, 400))\n",
    "    print('Optimal alpha', optAlpha)\n",
    "    print(\"\\n\")\n",
    "\n",
    "    optRidge = Ridge(alpha = optAlpha.x)\n",
    "    optRidge.fit(Xtrain, Ytrain)\n",
    "    return optRidge\n",
    "\n",
    "optRidge = get_opt_ridge_model(Xtrain, Xval)\n",
    "ridgeRMSE = metrics.root_mean_squared_error(Yval, optRidge.predict(Xval))\n",
    "print(f'Validační RMSE: {ridgeRMSE:.5f}')"
   ]
  },
  {
   "cell_type": "markdown",
   "id": "a22057b8-bccc-400a-81fa-14a2b602e92c",
   "metadata": {},
   "source": [
    "#### Standardizovaná data"
   ]
  },
  {
   "cell_type": "code",
   "execution_count": 180,
   "id": "119259a7-026b-4ef1-8f31-dfbcd8c8ce05",
   "metadata": {},
   "outputs": [],
   "source": [
    "scaler = StandardScaler().fit(Xtrain)\n",
    "XtrainStan = scaler.transform(Xtrain)\n",
    "XvalStan = scaler.transform(Xval)\n",
    "XtestStan = scaler.transform(Xtest)"
   ]
  },
  {
   "cell_type": "code",
   "execution_count": 250,
   "id": "17ae514c-9ee5-49e6-beb8-aa681f365db9",
   "metadata": {},
   "outputs": [
    {
     "data": {
      "image/png": "[encoded data removed]",
      "text/plain": [
       "<Figure size 800x600 with 1 Axes>"
      ]
     },
     "metadata": {},
     "output_type": "display_data"
    },
    {
     "name": "stdout",
     "output_type": "stream",
     "text": [
      "Optimal alpha      fun: 4.342762371030876\n",
      " message: 'Solution found.'\n",
      "    nfev: 21\n",
      "     nit: 21\n",
      "  status: 0\n",
      " success: True\n",
      "       x: 0.7354648798760813\n",
      "\n",
      "\n",
      "Validační RMSE (Standardizace): 4.34276\n"
     ]
    }
   ],
   "source": [
    "optRidgeStan = get_opt_ridge_model(XtrainStan, XvalStan)\n",
    "ridgeStanRMSE = metrics.root_mean_squared_error(Yval, optRidgeStan.predict(XvalStan))\n",
    "print(f'Validační RMSE (Standardizace): {ridgeStanRMSE:.5f}')"
   ]
  },
  {
   "cell_type": "markdown",
   "id": "10f87955-2a5d-433c-97bd-862cf74e3b48",
   "metadata": {},
   "source": [
    "#### Normalizovaná data"
   ]
  },
  {
   "cell_type": "code",
   "execution_count": 182,
   "id": "de27edc5-9c32-4cca-9905-4d7bb636cb99",
   "metadata": {},
   "outputs": [],
   "source": [
    "scaler = MinMaxScaler().fit(Xtrain)\n",
    "XtrainNorm = scaler.transform(Xtrain)\n",
    "XvalNorm = scaler.transform(Xval)\n",
    "XtestNorm = scaler.transform(Xtest)"
   ]
  },
  {
   "cell_type": "code",
   "execution_count": 251,
   "id": "1ef3278e-3981-4136-bc18-c5def5a5e1a4",
   "metadata": {},
   "outputs": [
    {
     "data": {
      "image/png": "[encoded data removed]",
      "text/plain": [
       "<Figure size 800x600 with 1 Axes>"
      ]
     },
     "metadata": {},
     "output_type": "display_data"
    },
    {
     "name": "stdout",
     "output_type": "stream",
     "text": [
      "Optimal alpha      fun: 4.447331535984824\n",
      " message: 'Solution found.'\n",
      "    nfev: 38\n",
      "     nit: 38\n",
      "  status: 0\n",
      " success: True\n",
      "       x: 0.10000406819977517\n",
      "\n",
      "\n",
      "Validační RMSE (Normalizace): 4.44733\n"
     ]
    }
   ],
   "source": [
    "optRidgeNorm = get_opt_ridge_model(XtrainNorm, XvalNorm)\n",
    "ridgeNormRMSE = metrics.root_mean_squared_error(Yval, optRidgeNorm.predict(XvalNorm))\n",
    "print(f'Validační RMSE (Normalizace): {ridgeNormRMSE:.5f}')"
   ]
  },
  {
   "cell_type": "markdown",
   "id": "6ca20fdd-f09d-4462-baff-f253d82fde00",
   "metadata": {},
   "source": [
    "Ve všech případech vyšlo RMSE více než 4, hřebenová regrese proto nejspíš nebude ideální model pro tuto úlohu."
   ]
  },
  {
   "cell_type": "markdown",
   "id": "b18748cc-6dbc-42b1-accb-6bfb1799edca",
   "metadata": {},
   "source": [
    "## AdaBoost"
   ]
  },
  {
   "cell_type": "markdown",
   "id": "d3db04dd-2bff-4536-94d4-712392296ad7",
   "metadata": {},
   "source": [
    "### Výhody modelu\n",
    "\n",
    "* vyšší přesnost, protože každý nový model se přizpůsobuje vzorkům, které byly v předchozím modelu špatně predikovány\n",
    "* celkem vysoká odolnost vůči přeučení\n",
    "* vhodný pro nelineární data"
   ]
  },
  {
   "cell_type": "markdown",
   "id": "9d563f79-5dd6-4066-bf64-3ccdfbde3475",
   "metadata": {},
   "source": [
    "#### Hyperparametry k ladění\n",
    "\n",
    "* *n_estimators* - počet slabých modelů, které budou trénovány, vyšší hodnota vede k lepšímu výkonu, ale také zvýšenému riziku přeučení\n",
    "* *max_depth* - maximální hloubka stromu\n",
    "* *normalization* - opět vyzkouším model na 3 množiny dat\n",
    "\n",
    "*estimator* je model, který AdaBoost použije jako základ a dále ho pomocí dalších iterací bude posilovat a trénovat k lepším výsledkům. Zde používám rozhodovací stromy."
   ]
  },
  {
   "cell_type": "code",
   "execution_count": 252,
   "id": "2bc16692-ea15-4b48-ae7a-79a46bd57bdd",
   "metadata": {},
   "outputs": [],
   "source": [
    "ABparamGrid = {\n",
    "    'n_estimators' : range(10, 100, 10),\n",
    "    'max_depth' : range(1, 8),\n",
    "    'normalization' : [None, 'Standard', 'MinMax']\n",
    "}\n",
    "\n",
    "ABparamComb = ParameterGrid(ABparamGrid)\n",
    "\n",
    "Xtrain = np.array(Xtrain, \"float64\")\n",
    "Xval = np.array(Xval, \"float64\")\n",
    "Ytrain = np.array(Ytrain, \"float64\")\n",
    "Yval = np.array(Yval, \"float64\")"
   ]
  },
  {
   "cell_type": "code",
   "execution_count": 185,
   "id": "5357ccbb-3dfc-469b-97d3-5265eb0d9c53",
   "metadata": {},
   "outputs": [],
   "source": [
    "ABbestParams = None\n",
    "ABbestRMSE = float(\"inf\")\n",
    "\n",
    "for params in ABparamComb:    \n",
    "    estimator = DecisionTreeRegressor(max_depth=params[\"max_depth\"])\n",
    "\n",
    "    if params['normalization'] == 'Standard':\n",
    "        dt = AdaBoostRegressor(estimator=estimator, n_estimators=params[\"n_estimators\"], random_state = 42).fit(XtrainStan, Ytrain)\n",
    "        rmse = metrics.root_mean_squared_error(Yval, dt.predict(XvalStan))\n",
    "    elif params['normalization'] == 'MinMax':\n",
    "        dt = AdaBoostRegressor(estimator=estimator, n_estimators=params[\"n_estimators\"], random_state = 42).fit(XtrainNorm, Ytrain)\n",
    "        rmse = metrics.root_mean_squared_error(Yval, dt.predict(XvalNorm))\n",
    "    else:\n",
    "        dt = AdaBoostRegressor(estimator=estimator, n_estimators=params[\"n_estimators\"], random_state = 42).fit(Xtrain, Ytrain)\n",
    "        rmse = metrics.root_mean_squared_error(Yval, dt.predict(Xval))\n",
    "\n",
    "    if rmse < ABbestRMSE:\n",
    "        ABbestRMSE = rmse\n",
    "        ABbestParams = params"
   ]
  },
  {
   "cell_type": "code",
   "execution_count": 257,
   "id": "b52d2fec-be90-41d9-8a04-345c6491976c",
   "metadata": {},
   "outputs": [
    {
     "name": "stdout",
     "output_type": "stream",
     "text": [
      "Nejlepší parametry {'max_depth': 7, 'n_estimators': 90, 'normalization': None} s validačním RMSE 1.999281\n"
     ]
    }
   ],
   "source": [
    "print(f\"Nejlepší parametry {ABbestParams} s validačním RMSE {ABbestRMSE:.6f}\")"
   ]
  },
  {
   "cell_type": "markdown",
   "id": "c1e5c4a4-98ee-49bf-bb70-38ebacd21c79",
   "metadata": {},
   "source": [
    "Validační RMSE zde vyšlo nejnižší ze všech zkoušených modelů, tento model se průměrně splete jen o necelé dva roky."
   ]
  },
  {
   "cell_type": "markdown",
   "id": "ee87f8cf-531d-4957-9f7b-4689a1e2acde",
   "metadata": {},
   "source": [
    "## Výběr finálního modelu"
   ]
  },
  {
   "cell_type": "code",
   "execution_count": 255,
   "id": "ccf0cc41-6de1-489f-9ae0-17751f97e0e1",
   "metadata": {},
   "outputs": [
    {
     "name": "stdout",
     "output_type": "stream",
     "text": [
      "Náhodný les RMSE: 2.244052\n",
      "Hřebenová regrese RMSE: 4.345861\n",
      "Hřebenová regrese normalizace RMSE: 4.447332\n",
      "Hřebenová regrese standardizace RMSE: 4.342762\n",
      "AdaBoost RMSE: 1.999281\n"
     ]
    }
   ],
   "source": [
    "print(f\"Náhodný les RMSE: {RFbestRMSE:.6f}\")\n",
    "print(f\"Hřebenová regrese RMSE: {ridgeRMSE:.6f}\")\n",
    "print(f\"Hřebenová regrese normalizace RMSE: {ridgeNormRMSE:.6f}\")\n",
    "print(f\"Hřebenová regrese standardizace RMSE: {ridgeStanRMSE:.6f}\")\n",
    "print(f\"AdaBoost RMSE: {ABbestRMSE:.6f}\")"
   ]
  },
  {
   "cell_type": "markdown",
   "id": "c9a5117c-a6d4-4a84-bcab-e25446c8c2b9",
   "metadata": {},
   "source": [
    "Nejnižší chyba vyšla u modelu AdaBoost, použiju ho tedy na testovací data a vypočítám RMSE a MAE. MAE určuje absolutní průměrnou chybu modelu bez ohledu na směr. Obě hodnoty vyšly relativně nízko a lze usuzovat, že zvolený finální model bude dobře predikovat na datech, která ještě neviděl."
   ]
  },
  {
   "cell_type": "code",
   "execution_count": 256,
   "id": "9f4e8035-c811-4f00-80d0-12a2c58159bc",
   "metadata": {},
   "outputs": [
    {
     "name": "stdout",
     "output_type": "stream",
     "text": [
      "RMSE (test): 1.9069207708040126\n",
      "MAE  (test): 1.4310521692206668\n"
     ]
    }
   ],
   "source": [
    "estimator = DecisionTreeRegressor(max_depth=ABbestParams[\"max_depth\"])\n",
    "adaboost = AdaBoostRegressor(estimator=estimator, n_estimators=ABbestParams[\"n_estimators\"], random_state = 42).fit(Xtrain, Ytrain)\n",
    "\n",
    "predictions = adaboost.predict(Xtest)\n",
    "RMSE = metrics.root_mean_squared_error(Ytest, predictions)\n",
    "MAE = metrics.mean_absolute_error(Ytest, predictions)\n",
    "print(f'RMSE (test): {RMSE}')\n",
    "print(f'MAE  (test): {MAE}')"
   ]
  },
  {
   "cell_type": "markdown",
   "id": "eb839a48-b54e-4c6e-85a4-60b137fc57eb",
   "metadata": {},
   "source": [
    "Na závěr model naučený na všech vstupních datech aplikuji na data v souboru *evaluation.csv* a uložím do souboru *results.csv*."
   ]
  },
  {
   "cell_type": "code",
   "execution_count": 240,
   "id": "e92adba2-93a5-4c37-8710-daf24c23ff78",
   "metadata": {},
   "outputs": [],
   "source": [
    "estimator = DecisionTreeRegressor(max_depth=ABbestParams[\"max_depth\"])\n",
    "finalModel = AdaBoostRegressor(estimator=estimator, n_estimators=ABbestParams[\"n_estimators\"], random_state = 42).fit(XdataCp, Ydata)\n",
    "\n",
    "predict = finalModel.predict(evl).round(1)"
   ]
  },
  {
   "cell_type": "code",
   "execution_count": 241,
   "id": "e792f7da-a3b4-4301-a33c-5cb37852e532",
   "metadata": {},
   "outputs": [
    {
     "data": {
      "text/html": [
       "<div>\n",
       "<style scoped>\n",
       "    .dataframe tbody tr th:only-of-type {\n",
       "        vertical-align: middle;\n",
       "    }\n",
       "\n",
       "    .dataframe tbody tr th {\n",
       "        vertical-align: top;\n",
       "    }\n",
       "\n",
       "    .dataframe thead th {\n",
       "        text-align: right;\n",
       "    }\n",
       "</style>\n",
       "<table border=\"1\" class=\"dataframe\">\n",
       "  <thead>\n",
       "    <tr style=\"text-align: right;\">\n",
       "      <th></th>\n",
       "      <th>Country</th>\n",
       "      <th>Year</th>\n",
       "      <th>Life expectancy</th>\n",
       "    </tr>\n",
       "  </thead>\n",
       "  <tbody>\n",
       "    <tr>\n",
       "      <th>0</th>\n",
       "      <td>Albania</td>\n",
       "      <td>2015</td>\n",
       "      <td>76.5</td>\n",
       "    </tr>\n",
       "    <tr>\n",
       "      <th>1</th>\n",
       "      <td>Albania</td>\n",
       "      <td>2014</td>\n",
       "      <td>74.3</td>\n",
       "    </tr>\n",
       "    <tr>\n",
       "      <th>2</th>\n",
       "      <td>Albania</td>\n",
       "      <td>2013</td>\n",
       "      <td>75.8</td>\n",
       "    </tr>\n",
       "    <tr>\n",
       "      <th>3</th>\n",
       "      <td>Albania</td>\n",
       "      <td>2012</td>\n",
       "      <td>75.6</td>\n",
       "    </tr>\n",
       "    <tr>\n",
       "      <th>4</th>\n",
       "      <td>Albania</td>\n",
       "      <td>2011</td>\n",
       "      <td>75.5</td>\n",
       "    </tr>\n",
       "  </tbody>\n",
       "</table>\n",
       "</div>"
      ],
      "text/plain": [
       "   Country  Year  Life expectancy\n",
       "0  Albania  2015             76.5\n",
       "1  Albania  2014             74.3\n",
       "2  Albania  2013             75.8\n",
       "3  Albania  2012             75.6\n",
       "4  Albania  2011             75.5"
      ]
     },
     "execution_count": 241,
     "metadata": {},
     "output_type": "execute_result"
    }
   ],
   "source": [
    "results = pd.DataFrame({'Country' : evlCountry, 'Year' : evlYear, 'Life expectancy' : predict})\n",
    "results.to_csv('results.csv', index=False)\n",
    "results.head()"
   ]
  }
 ],
 "metadata": {
  "kernelspec": {
   "display_name": "Python 3 (ipykernel)",
   "language": "python",
   "name": "python3"
  },
  "language_info": {
   "codemirror_mode": {
    "name": "ipython",
    "version": 3
   },
   "file_extension": ".py",
   "mimetype": "text/x-python",
   "name": "python",
   "nbconvert_exporter": "python",
   "pygments_lexer": "ipython3",
   "version": "3.10.12"
  }
 },
 "nbformat": 4,
 "nbformat_minor": 5
}
